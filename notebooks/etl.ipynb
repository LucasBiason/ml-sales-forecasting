{
 "cells": [
  {
   "cell_type": "markdown",
   "metadata": {},
   "source": [
    "# Análise de Dados - UK Property Sales Dataset",
    "",
    "Análise exploratória do dataset de transações imobiliárias do Reino Unido (1995-2025)."
   ]
  },
  {
   "cell_type": "markdown",
   "metadata": {},
   "source": [
    "## Sobre o Dataset",
    "",
    "**Price Paid Data** do UK Land Registry contém todas as transações imobiliárias registradas no Reino Unido.",
    "",
    "### Informações",
    "- **Fonte**: [Kaggle - UK Price Paid Data](https://www.kaggle.com/datasets/lorentzyeung/price-paid-data-202304)",
    "- **Tamanho**: ~30.5 milhões de transações",
    "- **Período**: 1995 até 2025",
    "- **Formato**: CSV sem headers",
    "",
    "### Licença",
    "> Contains HM Land Registry data © Crown copyright and database right 2021. This data is licensed under the Open Government Licence v3.0.",
    "",
    "### Colunas",
    "",
    "| Col | Tipo | Descrição |",
    "|-----|------|-----------|",
    "| price | int | Preço em £ |",
    "| transfer_date | datetime | Data da transação |",
    "| postcode | string | Código postal |",
    "| property_type | string | D=Detached, S=Semi, T=Terraced, F=Flat |",
    "| old_new | string | Y=Nova, N=Existente |",
    "| duration | string | F=Freehold, L=Leasehold |",
    "| paon | string | Número |",
    "| saon | string | Apt/unidade |",
    "| street | string | Rua |",
    "| locality | string | Localidade |",
    "| town_city | string | Cidade |",
    "| district | string | Distrito |",
    "| county | string | Condado |",
    "| ppd_category | string | Categoria |",
    "| record_status | string | Status |",
    "",
    "### Objetivos",
    "",
    "1. Carregar e processar os dados",
    "2. Entender evolução de preços (1995-2025)",
    "3. Identificar padrões geográficos",
    "4. Analisar por tipo de propriedade",
    "5. Preparar dados para modelagem"
   ]
  },
  {
   "cell_type": "markdown",
   "metadata": {},
   "source": [
    "## 1. Setup e Importações"
   ]
  },
  {
   "cell_type": "code",
   "metadata": {},
   "source": [
    "import pandas as pd",
    "import numpy as np",
    "import matplotlib.pyplot as plt",
    "import seaborn as sns",
    "from sklearn.preprocessing import LabelEncoder",
    "",
    "# Config de visualização",
    "plt.style.use('default')",
    "plt.rcParams['figure.figsize'] = (12, 6)",
    "sns.set_palette('husl')",
    "",
    "print(\"Bibliotecas carregadas\")"
   ],
   "execution_count": null,
   "outputs": []
  },
  {
   "cell_type": "markdown",
   "metadata": {},
   "source": [
    "## 2. Carregamento dos Dados",
    "",
    "### Estratégia de Amostragem",
    "",
    "Como o dataset tem 30M+ linhas, vou carregar uma amostra de 100k linhas **distribuída uniformemente** ao longo dos anos.",
    "",
    "**Importante**: Pegar apenas as primeiras linhas resultaria em dados apenas de 1995. A técnica de amostragem sistemática garante representatividade temporal."
   ]
  },
  {
   "cell_type": "code",
   "metadata": {},
   "source": [
    "# Definir nomes das colunas (CSV sem header)",
    "columns = [",
    "    'price', 'transfer_date', 'postcode', 'property_type', 'old_new',",
    "    'duration', 'paon', 'saon', 'street', 'locality', 'town_city',",
    "    'district', 'county', 'ppd_category', 'record_status'",
    "]",
    "",
    "# Parâmetros de amostragem",
    "total_rows = 30_535_539",
    "sample_size = 100_000",
    "skip_rate = total_rows // sample_size  # ~305",
    "",
    "# Amostragem sistemática: pega 1 linha a cada skip_rate linhas",
    "skip_rows = lambda i: i % skip_rate != 0",
    "",
    "print(f\"Dataset completo: {total_rows:,} linhas\")",
    "print(f\"Amostra: {sample_size:,} linhas (~{sample_size/total_rows*100:.2f}%)\")",
    "print(f\"Skip rate: 1 a cada {skip_rate} linhas\")",
    "print(\"\\nCarregando amostra estratificada...\")",
    "",
    "df = pd.read_csv(",
    "    'data/pp-complete.csv',",
    "    header=None,",
    "    names=columns,",
    "    skiprows=skip_rows,",
    "    nrows=sample_size",
    ")",
    "",
    "print(f\"\\n✓ {len(df):,} linhas carregadas\")",
    "print(f\"✓ {len(df.columns)} colunas\")"
   ],
   "execution_count": null,
   "outputs": []
  }
 ],
 "metadata": {
  "kernelspec": {
   "display_name": "Python 3",
   "language": "python",
   "name": "python3"
  },
  "language_info": {
   "name": "python",
   "version": "3.11.0"
  }
 },
 "nbformat": 4,
 "nbformat_minor": 4
}