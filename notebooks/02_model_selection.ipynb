{
 "cells": [
  {
   "cell_type": "markdown",
   "metadata": {},
   "source": [
    "# Treinamento de Modelos - Regressão de Preços de Imóveis\n",
    "\n",
    "## Problema\n",
    "\n",
    "Prever o preço de imóveis no Reino Unido baseado em suas características:\n",
    "- Tipo de propriedade (Detached, Semi-detached, Terraced, Flat)\n",
    "- Localização (condado)\n",
    "- Ano da transação\n",
    "- Se é propriedade nova ou existente\n",
    "- Tipo de posse (Freehold vs Leasehold)\n",
    "\n",
    "Este é um problema de **REGRESSÃO SUPERVISIONADA**, onde vou usar features categóricas e numéricas para prever o preço.\n",
    "\n",
    "## Modelos a Testar\n",
    "\n",
    "1. **Linear Regression** - Baseline simples\n",
    "2. **Ridge Regression** - Regularização L2\n",
    "3. **Random Forest** - Ensemble, robusto com categóricas\n",
    "4. **XGBoost** - Gradient boosting de alta performance\n",
    "5. **LightGBM** - Gradient boosting rápido e eficiente\n",
    "\n",
    "## Pipeline\n",
    "\n",
    "1. Feature engineering e encoding\n",
    "2. Train/validation/test split\n",
    "3. Treinar todos os modelos\n",
    "4. Comparar métricas (MAE, RMSE, R2)\n",
    "5. Hyperparameter tuning no melhor modelo\n",
    "6. Exportar modelo final (.joblib)\n",
    "\n",
    "## Dataset\n",
    "\n",
    "Utilizando o dataset UK Property Sales já processado no notebook de análise exploratória (100k transações)."
   ]
  },
  {
   "cell_type": "code",
   "execution_count": 20,
   "metadata": {},
   "outputs": [
    {
     "name": "stdout",
     "output_type": "stream",
     "text": [
      "Bibliotecas carregadas com sucesso\n"
     ]
    }
   ],
   "source": [
    "# Imports necessários\n",
    "import pandas as pd\n",
    "import numpy as np\n",
    "import matplotlib.pyplot as plt\n",
    "import seaborn as sns\n",
    "import joblib\n",
    "from datetime import datetime\n",
    "\n",
    "# Scikit-learn\n",
    "from sklearn.model_selection import train_test_split, cross_val_score\n",
    "from sklearn.preprocessing import LabelEncoder, StandardScaler\n",
    "from sklearn.metrics import mean_absolute_error, mean_squared_error, r2_score\n",
    "\n",
    "# Modelos de Regressão\n",
    "from sklearn.linear_model import LinearRegression, Ridge\n",
    "from sklearn.ensemble import RandomForestRegressor\n",
    "from xgboost import XGBRegressor\n",
    "from lightgbm import LGBMRegressor\n",
    "\n",
    "# Configurações de visualização\n",
    "plt.style.use('default')\n",
    "plt.rcParams['figure.figsize'] = (14, 6)\n",
    "sns.set_palette(\"husl\")\n",
    "\n",
    "print(\"Bibliotecas carregadas com sucesso\")"
   ]
  },
  {
   "cell_type": "markdown",
   "metadata": {},
   "source": [
    "## Passo 1: Carregamento de Dados\n",
    "\n",
    "Carregar o dataset que foi limpo no notebook anterior.\n"
   ]
  },
  {
   "cell_type": "code",
   "execution_count": 21,
   "metadata": {},
   "outputs": [
    {
     "name": "stdout",
     "output_type": "stream",
     "text": [
      "Dataset carregado: 100,000 linhas\n",
      "Periodo: 1995 - 2025\n"
     ]
    },
    {
     "data": {
      "text/html": [
       "<div>\n",
       "<style scoped>\n",
       "    .dataframe tbody tr th:only-of-type {\n",
       "        vertical-align: middle;\n",
       "    }\n",
       "\n",
       "    .dataframe tbody tr th {\n",
       "        vertical-align: top;\n",
       "    }\n",
       "\n",
       "    .dataframe thead th {\n",
       "        text-align: right;\n",
       "    }\n",
       "</style>\n",
       "<table border=\"1\" class=\"dataframe\">\n",
       "  <thead>\n",
       "    <tr style=\"text-align: right;\">\n",
       "      <th></th>\n",
       "      <th>price</th>\n",
       "      <th>transfer_date</th>\n",
       "      <th>postcode</th>\n",
       "      <th>property_type</th>\n",
       "      <th>old_new</th>\n",
       "      <th>duration</th>\n",
       "      <th>paon</th>\n",
       "      <th>saon</th>\n",
       "      <th>street</th>\n",
       "      <th>locality</th>\n",
       "      <th>town_city</th>\n",
       "      <th>district</th>\n",
       "      <th>county</th>\n",
       "      <th>ppd_category</th>\n",
       "      <th>record_status</th>\n",
       "      <th>year</th>\n",
       "      <th>month</th>\n",
       "      <th>quarter</th>\n",
       "    </tr>\n",
       "  </thead>\n",
       "  <tbody>\n",
       "    <tr>\n",
       "      <th>0</th>\n",
       "      <td>42000</td>\n",
       "      <td>1995-12-21</td>\n",
       "      <td>NE4 9DN</td>\n",
       "      <td>S</td>\n",
       "      <td>N</td>\n",
       "      <td>F</td>\n",
       "      <td>8</td>\n",
       "      <td>Unnamed: 8</td>\n",
       "      <td>MATFEN PLACE</td>\n",
       "      <td>FENHAM</td>\n",
       "      <td>NEWCASTLE UPON TYNE</td>\n",
       "      <td>NEWCASTLE UPON TYNE.1</td>\n",
       "      <td>TYNE AND WEAR</td>\n",
       "      <td>A</td>\n",
       "      <td>A.1</td>\n",
       "      <td>1995</td>\n",
       "      <td>12</td>\n",
       "      <td>4</td>\n",
       "    </tr>\n",
       "    <tr>\n",
       "      <th>1</th>\n",
       "      <td>45700</td>\n",
       "      <td>1995-11-10</td>\n",
       "      <td>CT18 7NE</td>\n",
       "      <td>T</td>\n",
       "      <td>N</td>\n",
       "      <td>F</td>\n",
       "      <td>55</td>\n",
       "      <td>NaN</td>\n",
       "      <td>WOODCOCK GARDENS</td>\n",
       "      <td>HAWKINGE</td>\n",
       "      <td>FOLKESTONE</td>\n",
       "      <td>SHEPWAY</td>\n",
       "      <td>KENT</td>\n",
       "      <td>A</td>\n",
       "      <td>A</td>\n",
       "      <td>1995</td>\n",
       "      <td>11</td>\n",
       "      <td>4</td>\n",
       "    </tr>\n",
       "    <tr>\n",
       "      <th>2</th>\n",
       "      <td>15000</td>\n",
       "      <td>1995-07-05</td>\n",
       "      <td>BH1 4HF</td>\n",
       "      <td>F</td>\n",
       "      <td>N</td>\n",
       "      <td>L</td>\n",
       "      <td>8 - 10</td>\n",
       "      <td>FLAT 5</td>\n",
       "      <td>AYLESBURY ROAD</td>\n",
       "      <td>BOURNEMOUTH</td>\n",
       "      <td>BOURNEMOUTH</td>\n",
       "      <td>BOURNEMOUTH</td>\n",
       "      <td>BOURNEMOUTH</td>\n",
       "      <td>A</td>\n",
       "      <td>A</td>\n",
       "      <td>1995</td>\n",
       "      <td>7</td>\n",
       "      <td>3</td>\n",
       "    </tr>\n",
       "    <tr>\n",
       "      <th>3</th>\n",
       "      <td>136000</td>\n",
       "      <td>1995-01-10</td>\n",
       "      <td>CF24 3PB</td>\n",
       "      <td>T</td>\n",
       "      <td>N</td>\n",
       "      <td>F</td>\n",
       "      <td>22</td>\n",
       "      <td>NaN</td>\n",
       "      <td>WELLFIELD ROAD</td>\n",
       "      <td>NaN</td>\n",
       "      <td>CARDIFF</td>\n",
       "      <td>CARDIFF</td>\n",
       "      <td>CARDIFF</td>\n",
       "      <td>A</td>\n",
       "      <td>A</td>\n",
       "      <td>1995</td>\n",
       "      <td>1</td>\n",
       "      <td>1</td>\n",
       "    </tr>\n",
       "    <tr>\n",
       "      <th>4</th>\n",
       "      <td>55000</td>\n",
       "      <td>1995-05-26</td>\n",
       "      <td>CM17 0BX</td>\n",
       "      <td>T</td>\n",
       "      <td>N</td>\n",
       "      <td>F</td>\n",
       "      <td>114</td>\n",
       "      <td>NaN</td>\n",
       "      <td>JOCELYNS</td>\n",
       "      <td>HARLOW</td>\n",
       "      <td>HARLOW</td>\n",
       "      <td>HARLOW</td>\n",
       "      <td>ESSEX</td>\n",
       "      <td>A</td>\n",
       "      <td>A</td>\n",
       "      <td>1995</td>\n",
       "      <td>5</td>\n",
       "      <td>2</td>\n",
       "    </tr>\n",
       "  </tbody>\n",
       "</table>\n",
       "</div>"
      ],
      "text/plain": [
       "    price transfer_date  postcode property_type old_new duration    paon  \\\n",
       "0   42000    1995-12-21   NE4 9DN             S       N        F       8   \n",
       "1   45700    1995-11-10  CT18 7NE             T       N        F      55   \n",
       "2   15000    1995-07-05   BH1 4HF             F       N        L  8 - 10   \n",
       "3  136000    1995-01-10  CF24 3PB             T       N        F      22   \n",
       "4   55000    1995-05-26  CM17 0BX             T       N        F     114   \n",
       "\n",
       "         saon            street     locality            town_city  \\\n",
       "0  Unnamed: 8      MATFEN PLACE       FENHAM  NEWCASTLE UPON TYNE   \n",
       "1         NaN  WOODCOCK GARDENS     HAWKINGE           FOLKESTONE   \n",
       "2      FLAT 5    AYLESBURY ROAD  BOURNEMOUTH          BOURNEMOUTH   \n",
       "3         NaN    WELLFIELD ROAD          NaN              CARDIFF   \n",
       "4         NaN          JOCELYNS       HARLOW               HARLOW   \n",
       "\n",
       "                district         county ppd_category record_status  year  \\\n",
       "0  NEWCASTLE UPON TYNE.1  TYNE AND WEAR            A           A.1  1995   \n",
       "1                SHEPWAY           KENT            A             A  1995   \n",
       "2            BOURNEMOUTH    BOURNEMOUTH            A             A  1995   \n",
       "3                CARDIFF        CARDIFF            A             A  1995   \n",
       "4                 HARLOW          ESSEX            A             A  1995   \n",
       "\n",
       "   month  quarter  \n",
       "0     12        4  \n",
       "1     11        4  \n",
       "2      7        3  \n",
       "3      1        1  \n",
       "4      5        2  "
      ]
     },
     "execution_count": 21,
     "metadata": {},
     "output_type": "execute_result"
    }
   ],
   "source": [
    "# Carregar dataset limpo\n",
    "df = pd.read_csv('data/uk_property_cleaned.csv')\n",
    "\n",
    "# Converter transfer_date para datetime\n",
    "df['transfer_date'] = pd.to_datetime(df['transfer_date'])\n",
    "\n",
    "print(f\"Dataset carregado: {len(df):,} linhas\")\n",
    "print(f\"Periodo: {df['year'].min()} - {df['year'].max()}\")\n",
    "df.head()\n"
   ]
  },
  {
   "cell_type": "markdown",
   "metadata": {},
   "source": [
    "## Passo 2: Selecao de Features\n",
    "\n",
    "Escolher apenas as features relevantes para prever o preco."
   ]
  },
  {
   "cell_type": "code",
   "execution_count": 22,
   "metadata": {},
   "outputs": [
    {
     "name": "stdout",
     "output_type": "stream",
     "text": [
      "Dataset para modelagem: 100,000 linhas\n",
      "\n",
      "Features selecionadas: ['property_type', 'county', 'old_new', 'duration', 'year']\n",
      "Target: price\n",
      "\n",
      "Valores unicos por feature:\n",
      "  property_type: 5 categorias\n",
      "  county: 132 categorias\n",
      "  old_new: 2 categorias\n",
      "  duration: 3 categorias\n",
      "  year: 31 categorias\n"
     ]
    }
   ],
   "source": [
    "# Features selecionadas\n",
    "features = ['property_type', 'county', 'old_new', 'duration', 'year']\n",
    "target = 'price'\n",
    "\n",
    "# Criar dataset apenas com features relevantes\n",
    "df_model = df[features + [target]].copy()\n",
    "\n",
    "# Remover linhas com valores faltantes\n",
    "df_model = df_model.dropna()\n",
    "\n",
    "print(f\"Dataset para modelagem: {len(df_model):,} linhas\")\n",
    "print(f\"\\nFeatures selecionadas: {features}\")\n",
    "print(f\"Target: {target}\")\n",
    "print(f\"\\nValores unicos por feature:\")\n",
    "for feat in features:\n",
    "    print(f\"  {feat}: {df_model[feat].nunique()} categorias\")"
   ]
  },
  {
   "cell_type": "markdown",
   "metadata": {},
   "source": [
    "Problema encontrado!\n",
    "- County é CRUCIAL para preço\n",
    "- Problema com 132 categorias:\n",
    "    * One-Hot Encoding → criaria 132 colunas (pesado)\n",
    "    * Label Encoding → modelos lineares interpretariam errado (county=131 > county=0)\n",
    "- Target Encoding: Substituir cada condado pelo preço médio daquele condado\n",
    "\n",
    "Por quê funciona:\n",
    "- Mantém a informação de localização (condados caros ficam com valores altos)\n",
    "- Reduz para 1 coluna numérica (ao invés de 132)\n",
    "- Modelos entendem: \"valor alto de county = preço alto esperado\""
   ]
  },
  {
   "cell_type": "markdown",
   "metadata": {},
   "source": [
    "## Passo 3: Encoding de Variaveis Categoricas\n",
    "\n",
    "Estrategia de encoding:\n",
    "- property_type, old_new, duration: Label Encoding (poucas categorias)\n",
    "- county: Target Encoding (132 categorias - preco medio por condado)\n",
    "- year: ja eh numerico"
   ]
  },
  {
   "cell_type": "code",
   "execution_count": 23,
   "metadata": {},
   "outputs": [
    {
     "name": "stdout",
     "output_type": "stream",
     "text": [
      "Target Encoding - County:\n",
      "Condado com maior preco medio: GREATER LONDON (£441,256)\n",
      "Condado com menor preco medio: WEST GLAMORGAN (£34,499)\n",
      "\n",
      "Exemplo:\n",
      "county\n",
      "AVON                             69926.216667\n",
      "BATH AND NORTH EAST SOMERSET    277196.007299\n",
      "BEDFORD                         294534.590604\n",
      "BEDFORDSHIRE                    132004.718310\n",
      "BERKSHIRE                       109637.600000\n",
      "Name: price, dtype: float64\n"
     ]
    }
   ],
   "source": [
    "# Target Encoding para county\n",
    "# Calcular preco medio por condado\n",
    "county_price_mean = df_model.groupby('county')['price'].mean()\n",
    "\n",
    "# Mapear condados para seus precos medios\n",
    "df_model['county_encoded'] = df_model['county'].map(county_price_mean)\n",
    "\n",
    "print(\"Target Encoding - County:\")\n",
    "print(f\"Condado com maior preco medio: {county_price_mean.idxmax()} (£{county_price_mean.max():,.0f})\")\n",
    "print(f\"Condado com menor preco medio: {county_price_mean.idxmin()} (£{county_price_mean.min():,.0f})\")\n",
    "print(f\"\\nExemplo:\")\n",
    "print(county_price_mean.head())\n"
   ]
  },
  {
   "cell_type": "markdown",
   "metadata": {},
   "source": [
    "Label Encoding para as demais features categoricas (baixa cardinalidade).\n",
    "- property_type → 5 categorias (D, S, T, F, O)\n",
    "- old_new → 2 categorias (Y, N)\n",
    "- duration → 2-3 categorias (F, L, U)\n"
   ]
  },
  {
   "cell_type": "code",
   "execution_count": 24,
   "metadata": {},
   "outputs": [
    {
     "name": "stdout",
     "output_type": "stream",
     "text": [
      "property_type: 5 categorias -> ['D' 'F' 'O' 'S' 'T']\n",
      "old_new: 2 categorias -> ['N' 'Y']\n",
      "duration: 3 categorias -> ['F' 'L' 'U']\n",
      "\n",
      "Features apos encoding:\n",
      "  property_type         county old_new duration  year   price  county_encoded  \\\n",
      "0             S  TYNE AND WEAR       N        F  1995   42000   144388.867232   \n",
      "1             T           KENT       N        F  1995   45700   245884.903105   \n",
      "2             F    BOURNEMOUTH       N        L  1995   15000   169349.679666   \n",
      "3             T        CARDIFF       N        F  1995  136000   178161.983900   \n",
      "4             T          ESSEX       N        F  1995   55000   251706.057021   \n",
      "\n",
      "   property_type_encoded  old_new_encoded  duration_encoded  \n",
      "0                      3                0                 0  \n",
      "1                      4                0                 0  \n",
      "2                      1                0                 1  \n",
      "3                      4                0                 0  \n",
      "4                      4                0                 0  \n"
     ]
    }
   ],
   "source": [
    "# Label Encoding para features com poucas categorias\n",
    "categorical_features = ['property_type', 'old_new', 'duration']\n",
    "\n",
    "# Dicionario para armazenar encoders\n",
    "encoders = {}\n",
    "\n",
    "for col in categorical_features:\n",
    "    le = LabelEncoder()\n",
    "    df_model[col + '_encoded'] = le.fit_transform(df_model[col].astype(str))\n",
    "    encoders[col] = le\n",
    "    print(f\"{col}: {len(le.classes_)} categorias -> {le.classes_}\")\n",
    "\n",
    "print(\"\\nFeatures apos encoding:\")\n",
    "print(df_model.head())\n"
   ]
  },
  {
   "cell_type": "markdown",
   "metadata": {},
   "source": [
    "\n",
    "## Passo 4: Preparacao do Dataset Final\n",
    "\n",
    "Selecionar apenas features numericas para treinamento dos modelos."
   ]
  },
  {
   "cell_type": "code",
   "execution_count": 25,
   "metadata": {},
   "outputs": [
    {
     "name": "stdout",
     "output_type": "stream",
     "text": [
      "Shape de X: (100000, 5)\n",
      "Shape de y: (100000,)\n",
      "\n",
      "Features finais: ['property_type_encoded', 'county_encoded', 'old_new_encoded', 'duration_encoded', 'year']\n",
      "\n",
      "Primeiras linhas de X:\n",
      "   property_type_encoded  county_encoded  old_new_encoded  duration_encoded  \\\n",
      "0                      3   144388.867232                0                 0   \n",
      "1                      4   245884.903105                0                 0   \n",
      "2                      1   169349.679666                0                 1   \n",
      "3                      4   178161.983900                0                 0   \n",
      "4                      4   251706.057021                0                 0   \n",
      "\n",
      "   year  \n",
      "0  1995  \n",
      "1  1995  \n",
      "2  1995  \n",
      "3  1995  \n",
      "4  1995  \n"
     ]
    }
   ],
   "source": [
    "# Features finais (apenas numericas)\n",
    "feature_cols = ['property_type_encoded', 'county_encoded', 'old_new_encoded', 'duration_encoded', 'year']\n",
    "\n",
    "# Separar X e y\n",
    "X = df_model[feature_cols]\n",
    "y = df_model['price']\n",
    "\n",
    "print(f\"Shape de X: {X.shape}\")\n",
    "print(f\"Shape de y: {y.shape}\")\n",
    "print(f\"\\nFeatures finais: {feature_cols}\")\n",
    "print(f\"\\nPrimeiras linhas de X:\")\n",
    "print(X.head())"
   ]
  },
  {
   "cell_type": "markdown",
   "metadata": {},
   "source": [
    "## Passo 5: Train/Test Split\n",
    "\n",
    "Dividir dados em treino (80%) e teste (20%) para validacao.\n"
   ]
  },
  {
   "cell_type": "code",
   "execution_count": 26,
   "metadata": {},
   "outputs": [
    {
     "name": "stdout",
     "output_type": "stream",
     "text": [
      "Divisao dos dados:\n",
      "X_train: (80000, 5)\n",
      "X_test: (20000, 5)\n",
      "y_train: (80000,)\n",
      "y_test: (20000,)\n",
      "\n",
      "Percentual treino: 80.0%\n",
      "Percentual teste: 20.0%\n"
     ]
    }
   ],
   "source": [
    "# Divisao 80/20\n",
    "X_train, X_test, y_train, y_test = train_test_split(\n",
    "    X, y, \n",
    "    test_size=0.2, \n",
    "    random_state=42\n",
    ")\n",
    "\n",
    "print(\"Divisao dos dados:\")\n",
    "print(f\"X_train: {X_train.shape}\")\n",
    "print(f\"X_test: {X_test.shape}\")\n",
    "print(f\"y_train: {y_train.shape}\")\n",
    "print(f\"y_test: {y_test.shape}\")\n",
    "print(f\"\\nPercentual treino: {len(X_train)/len(X)*100:.1f}%\")\n",
    "print(f\"Percentual teste: {len(X_test)/len(X)*100:.1f}%\")"
   ]
  },
  {
   "cell_type": "markdown",
   "metadata": {},
   "source": [
    "## Passo 6: Treinamento dos Modelos\n",
    "\n",
    "Treinar 5 modelos diferentes e medir tempo de execucao."
   ]
  },
  {
   "cell_type": "code",
   "execution_count": 27,
   "metadata": {},
   "outputs": [
    {
     "name": "stdout",
     "output_type": "stream",
     "text": [
      "Treinando modelos...\n",
      "\n",
      "Treinando Linear Regression...\n",
      "  Tempo: 0.02s\n",
      "Treinando Ridge...\n",
      "  Tempo: 0.01s\n",
      "Treinando Random Forest...\n"
     ]
    },
    {
     "name": "stdout",
     "output_type": "stream",
     "text": [
      "  Tempo: 2.60s\n",
      "Treinando XGBoost...\n",
      "  Tempo: 8.07s\n",
      "Treinando LightGBM...\n",
      "  Tempo: 1.75s\n",
      "\n",
      "Todos os modelos treinados!\n"
     ]
    }
   ],
   "source": [
    "import time\n",
    "\n",
    "# Dicionario de modelos\n",
    "models = {\n",
    "    'Linear Regression': LinearRegression(),\n",
    "    'Ridge': Ridge(alpha=1.0),\n",
    "    'Random Forest': RandomForestRegressor(n_estimators=100, random_state=42, n_jobs=-1),\n",
    "    'XGBoost': XGBRegressor(n_estimators=100, random_state=42, n_jobs=-1, verbosity=0),\n",
    "    'LightGBM': LGBMRegressor(n_estimators=100, random_state=42, n_jobs=-1, verbose=-1)\n",
    "}\n",
    "\n",
    "# Dicionario para armazenar resultados\n",
    "results = {}\n",
    "\n",
    "print(\"Treinando modelos...\\n\")\n",
    "\n",
    "for name, model in models.items():\n",
    "    print(f\"Treinando {name}...\")\n",
    "    \n",
    "    # Medir tempo\n",
    "    start_time = time.time()\n",
    "    \n",
    "    # Treinar\n",
    "    model.fit(X_train, y_train)\n",
    "    \n",
    "    # Calcular tempo\n",
    "    train_time = time.time() - start_time\n",
    "    \n",
    "    # Armazenar\n",
    "    results[name] = {\n",
    "        'model': model,\n",
    "        'train_time': train_time\n",
    "    }\n",
    "    \n",
    "    print(f\"  Tempo: {train_time:.2f}s\")\n",
    "\n",
    "print(\"\\nTodos os modelos treinados!\")"
   ]
  },
  {
   "cell_type": "markdown",
   "metadata": {},
   "source": [
    "## Passo 7: Avaliacao de Performance\n",
    "\n",
    "Calcular metricas de precisao (MAE, RMSE, R2) para cada modelo no test set."
   ]
  },
  {
   "cell_type": "markdown",
   "metadata": {},
   "source": [
    "- MAE (Mean Absolute Error) → Erro médio em £\n",
    "- RMSE (Root Mean Squared Error) → Penaliza erros grandes\n",
    "- R² (R-squared) → Quanto % da variação o modelo explica (0-1, quanto maior melhor)\n"
   ]
  },
  {
   "cell_type": "code",
   "execution_count": 28,
   "metadata": {},
   "outputs": [
    {
     "name": "stdout",
     "output_type": "stream",
     "text": [
      "METRICAS DE PERFORMANCE\n",
      "\n",
      "======================================================================\n",
      "Linear Regression:\n",
      "  MAE:  £127,344\n",
      "  RMSE: £1,253,203\n",
      "  R2:   0.0175\n",
      "  Tempo: 0.02s\n",
      "\n",
      "Ridge:\n",
      "  MAE:  £127,343\n",
      "  RMSE: £1,253,203\n",
      "  R2:   0.0175\n",
      "  Tempo: 0.01s\n",
      "\n",
      "Random Forest:\n",
      "  MAE:  £114,216\n",
      "  RMSE: £1,292,697\n",
      "  R2:   -0.0454\n",
      "  Tempo: 2.60s\n",
      "\n",
      "XGBoost:\n",
      "  MAE:  £112,056\n",
      "  RMSE: £1,292,566\n",
      "  R2:   -0.0452\n",
      "  Tempo: 8.07s\n",
      "\n",
      "LightGBM:\n",
      "  MAE:  £110,443\n",
      "  RMSE: £1,279,618\n",
      "  R2:   -0.0244\n",
      "  Tempo: 1.75s\n",
      "\n"
     ]
    }
   ],
   "source": [
    "# Avaliar cada modelo\n",
    "print(\"METRICAS DE PERFORMANCE\\n\")\n",
    "print(\"=\" * 70)\n",
    "\n",
    "for name, data in results.items():\n",
    "    model = data['model']\n",
    "    \n",
    "    # Fazer previsoes no test set\n",
    "    y_pred = model.predict(X_test)\n",
    "    \n",
    "    # Calcular metricas\n",
    "    mae = mean_absolute_error(y_test, y_pred)\n",
    "    rmse = np.sqrt(mean_squared_error(y_test, y_pred))\n",
    "    r2 = r2_score(y_test, y_pred)\n",
    "    \n",
    "    # Armazenar metricas\n",
    "    results[name]['mae'] = mae\n",
    "    results[name]['rmse'] = rmse\n",
    "    results[name]['r2'] = r2\n",
    "    \n",
    "    print(f\"{name}:\")\n",
    "    print(f\"  MAE:  £{mae:,.0f}\")\n",
    "    print(f\"  RMSE: £{rmse:,.0f}\")\n",
    "    print(f\"  R2:   {r2:.4f}\")\n",
    "    print(f\"  Tempo: {data['train_time']:.2f}s\")\n",
    "    print()"
   ]
  },
  {
   "cell_type": "markdown",
   "metadata": {},
   "source": [
    "### ANÁLISE DOS RESULTADOS:\n",
    "#### Linear Regression e Ridge: R² = 0.0175\n",
    "Significa que esses modelos explicam apenas 1.75% da variação dos preços.  Modelos lineares assumem relação linear entre features e preço:\n",
    "```python\n",
    "preço = a*property_type + b*county + c*year + ...\n",
    "```\n",
    "\n",
    "Mas a realidade é:\n",
    "* Relações não-lineares (um Flat em Londres é MUITO diferente de um Detached em Cornwall)\n",
    "* Interações complexas entre features\n",
    "\n",
    "#### LightGBM com MAE = £110k\n",
    "Parece alto, mas vamos ver o R² dele também para comparar!"
   ]
  },
  {
   "cell_type": "markdown",
   "metadata": {},
   "source": [
    "## Comparacao de Modelos\n",
    "\n",
    "Tabela comparativa com todas as metricas."
   ]
  },
  {
   "cell_type": "code",
   "execution_count": 29,
   "metadata": {},
   "outputs": [
    {
     "name": "stdout",
     "output_type": "stream",
     "text": [
      "TABELA COMPARATIVA DE MODELOS\n",
      "\n",
      "            Model           MAE         RMSE        R2  Train Time (s)\n",
      "            Ridge 127343.230853 1.253203e+06  0.017482        0.008730\n",
      "Linear Regression 127343.713610 1.253203e+06  0.017482        0.015561\n",
      "         LightGBM 110442.747961 1.279618e+06 -0.024374        1.750709\n",
      "          XGBoost 112056.054688 1.292566e+06 -0.045209        8.068723\n",
      "    Random Forest 114216.211542 1.292697e+06 -0.045421        2.601219\n",
      "\n",
      "Melhor modelo (maior R2): Ridge\n"
     ]
    }
   ],
   "source": [
    "# Criar DataFrame comparativo\n",
    "comparison_data = []\n",
    "\n",
    "for name, data in results.items():\n",
    "    comparison_data.append({\n",
    "        'Model': name,\n",
    "        'MAE': data['mae'],\n",
    "        'RMSE': data['rmse'],\n",
    "        'R2': data['r2'],\n",
    "        'Train Time (s)': data['train_time']\n",
    "    })\n",
    "\n",
    "comparison_df = pd.DataFrame(comparison_data)\n",
    "\n",
    "# Ordenar por R2 (maior = melhor)\n",
    "comparison_df = comparison_df.sort_values('R2', ascending=False)\n",
    "\n",
    "print(\"TABELA COMPARATIVA DE MODELOS\\n\")\n",
    "print(comparison_df.to_string(index=False))\n",
    "\n",
    "# Identificar melhor modelo\n",
    "best_model_name = comparison_df.iloc[0]['Model']\n",
    "print(f\"\\nMelhor modelo (maior R2): {best_model_name}\")"
   ]
  },
  {
   "cell_type": "markdown",
   "metadata": {},
   "source": [
    "### ANÁLISE DOS RESULTADOS:\n",
    "#### R² NEGATIVO nos modelos de árvore\n",
    "Isso significa que esses modelos estão PIORES que simplesmente prever a média sempre!\n",
    "\n",
    "#### Ridge/Linear com R² = 0.017\n",
    "Explicam apenas 1.7% da variação! Praticamente inúteis.\n",
    "\n",
    "#### O QUE DEU ERRADO:\n",
    "Temos DATA LEAKAGE no Target Encoding\n",
    "O ERRO:\n",
    "```python\n",
    "county_price_mean = df_model.groupby('county')['price'].mean()  # Usa TODO dataset\n",
    "df_model['county_encoded'] = df_model['county'].map(county_price_mean)\n",
    "```\n"
   ]
  },
  {
   "cell_type": "markdown",
   "metadata": {},
   "source": [
    "## PROBLEMA IDENTIFICADO: Data Leakage\n",
    "\n",
    "Os resultados ruins (R2 negativo) indicam data leakage no Target Encoding.\n",
    "\n",
    "**O que foi feito errado:**\n",
    "1. Calculamos county_price_mean usando TODO o dataset\n",
    "2. Isso incluiu dados do test set\n",
    "3. Depois dividimos train/test\n",
    "\n",
    "**Por que eh errado:**\n",
    "O modelo indiretamente \"viu\" informacao do test set durante o treino.\n",
    "\n",
    "**Solucao:**\n",
    "1. Fazer Train/Test Split ANTES do Target Encoding\n",
    "2. Calcular county_price_mean APENAS com dados de treino\n",
    "3. Aplicar esse mapeamento em train e test"
   ]
  },
  {
   "cell_type": "markdown",
   "metadata": {},
   "source": [
    "## Correcao: Target Encoding Correto\n",
    "\n",
    "Refazer o processo na ordem certa."
   ]
  },
  {
   "cell_type": "code",
   "execution_count": 30,
   "metadata": {},
   "outputs": [
    {
     "name": "stdout",
     "output_type": "stream",
     "text": [
      "Dataset preparado: 100,000 linhas\n",
      "Colunas: ['property_type', 'county', 'old_new', 'duration', 'year', 'price']\n"
     ]
    }
   ],
   "source": [
    "# PASSO 1: Preparar features sem county encoded ainda\n",
    "features_categorical = ['property_type', 'old_new', 'duration']\n",
    "features_numeric = ['year']\n",
    "\n",
    "# Criar dataset com categoricas ainda nao encoded\n",
    "df_correct = df[['property_type', 'county', 'old_new', 'duration', 'year', 'price']].copy()\n",
    "df_correct = df_correct.dropna()\n",
    "\n",
    "print(f\"Dataset preparado: {len(df_correct):,} linhas\")\n",
    "print(f\"Colunas: {list(df_correct.columns)}\")"
   ]
  },
  {
   "cell_type": "code",
   "execution_count": 31,
   "metadata": {},
   "outputs": [
    {
     "name": "stdout",
     "output_type": "stream",
     "text": [
      "property_type: 5 categorias\n",
      "  Classes: ['D' 'F' 'O' 'S' 'T']\n",
      "\n",
      "old_new: 2 categorias\n",
      "  Classes: ['N' 'Y']\n",
      "\n",
      "duration: 3 categorias\n",
      "  Classes: ['F' 'L' 'U']\n",
      "\n",
      "Colunas apos encoding:\n",
      "['property_type', 'county', 'old_new', 'duration', 'year', 'price', 'property_type_encoded', 'old_new_encoded', 'duration_encoded']\n"
     ]
    }
   ],
   "source": [
    "# Label Encoding para features com poucas categorias\n",
    "from sklearn.preprocessing import LabelEncoder\n",
    "\n",
    "categorical_to_encode = ['property_type', 'old_new', 'duration']\n",
    "encoders = {}\n",
    "\n",
    "for col in categorical_to_encode:\n",
    "    le = LabelEncoder()\n",
    "    df_correct[col + '_encoded'] = le.fit_transform(df_correct[col].astype(str))\n",
    "    encoders[col] = le\n",
    "    print(f\"{col}: {len(le.classes_)} categorias\")\n",
    "    print(f\"  Classes: {le.classes_}\")\n",
    "    print()\n",
    "\n",
    "print(\"Colunas apos encoding:\")\n",
    "print(df_correct.columns.tolist())"
   ]
  },
  {
   "cell_type": "code",
   "execution_count": 32,
   "metadata": {},
   "outputs": [
    {
     "name": "stdout",
     "output_type": "stream",
     "text": [
      "Divisao completa:\n",
      "Train: 80,000 linhas\n",
      "Test: 20,000 linhas\n",
      "\n",
      "Colunas em X_train_temp: ['property_type_encoded', 'county', 'old_new_encoded', 'duration_encoded', 'year']\n"
     ]
    }
   ],
   "source": [
    "# Separar features e target\n",
    "# Usando colunas encoded das categoricas simples + county original + year\n",
    "X_features = ['property_type_encoded', 'county', 'old_new_encoded', 'duration_encoded', 'year']\n",
    "X_temp = df_correct[X_features]\n",
    "y = df_correct['price']\n",
    "\n",
    "# Divisao 80/20\n",
    "X_train_temp, X_test_temp, y_train, y_test = train_test_split(\n",
    "    X_temp, y,\n",
    "    test_size=0.2,\n",
    "    random_state=42\n",
    ")\n",
    "\n",
    "print(\"Divisao completa:\")\n",
    "print(f\"Train: {len(X_train_temp):,} linhas\")\n",
    "print(f\"Test: {len(X_test_temp):,} linhas\")\n",
    "print(f\"\\nColunas em X_train_temp: {X_train_temp.columns.tolist()}\")"
   ]
  },
  {
   "cell_type": "code",
   "execution_count": 33,
   "metadata": {},
   "outputs": [
    {
     "name": "stdout",
     "output_type": "stream",
     "text": [
      "Target Encoding - County (train set):\n",
      "Condados no train: 132\n",
      "\n",
      "Top 5 condados mais caros (train):\n",
      "county\n",
      "GREATER LONDON                         431234.435165\n",
      "SURREY                                 422749.135120\n",
      "BOURNEMOUTH, CHRISTCHURCH AND POOLE    397135.065217\n",
      "WINDSOR AND MAIDENHEAD                 358823.952607\n",
      "BUCKINGHAMSHIRE                        341015.200000\n",
      "Name: price, dtype: float64\n",
      "\n",
      "Top 5 condados mais baratos (train):\n",
      "county\n",
      "WEST GLAMORGAN    31399.000000\n",
      "CLEVELAND         36250.000000\n",
      "DYFED             38722.222222\n",
      "MID GLAMORGAN     40756.363636\n",
      "CLWYD             58083.333333\n",
      "Name: price, dtype: float64\n",
      "\n",
      "Condados do test ausentes no train: 0\n"
     ]
    }
   ],
   "source": [
    "# Calcular preco medio por condado APENAS no train set\n",
    "county_price_map = X_train_temp.join(y_train).groupby('county')['price'].mean()\n",
    "\n",
    "print(\"Target Encoding - County (train set):\")\n",
    "print(f\"Condados no train: {len(county_price_map)}\")\n",
    "print(f\"\\nTop 5 condados mais caros (train):\")\n",
    "print(county_price_map.nlargest(5))\n",
    "print(f\"\\nTop 5 condados mais baratos (train):\")\n",
    "print(county_price_map.nsmallest(5))\n",
    "\n",
    "# Aplicar encoding em train\n",
    "X_train_temp['county_encoded'] = X_train_temp['county'].map(county_price_map)\n",
    "\n",
    "# Aplicar MESMO mapeamento em test\n",
    "X_test_temp['county_encoded'] = X_test_temp['county'].map(county_price_map)\n",
    "\n",
    "# Verificar se algum condado do test nao existe no train\n",
    "missing_in_test = X_test_temp['county_encoded'].isna().sum()\n",
    "print(f\"\\nCondados do test ausentes no train: {missing_in_test}\")\n",
    "\n",
    "# Se houver missing, preencher com mediana global do train\n",
    "if missing_in_test > 0:\n",
    "    global_median = county_price_map.median()\n",
    "    X_test_temp['county_encoded'].fillna(global_median, inplace=True)\n",
    "    print(f\"Preenchidos com mediana global: £{global_median:,.0f}\")"
   ]
  },
  {
   "cell_type": "code",
   "execution_count": 34,
   "metadata": {},
   "outputs": [
    {
     "name": "stdout",
     "output_type": "stream",
     "text": [
      "Datasets finais preparados:\n",
      "X_train shape: (80000, 5)\n",
      "X_test shape: (20000, 5)\n",
      "y_train shape: (80000,)\n",
      "y_test shape: (20000,)\n",
      "\n",
      "Features: ['property_type_encoded', 'county_encoded', 'old_new_encoded', 'duration_encoded', 'year']\n",
      "\n",
      "Primeiras linhas de X_train:\n",
      "       property_type_encoded  county_encoded  old_new_encoded  \\\n",
      "75220                      3   138059.773597                1   \n",
      "48955                      4   149095.709861                0   \n",
      "44966                      4   164496.709611                0   \n",
      "13568                      1   189998.927152                1   \n",
      "92727                      4   193509.351454                0   \n",
      "\n",
      "       duration_encoded  year  \n",
      "75220                 0  2017  \n",
      "48955                 0  2007  \n",
      "44966                 0  2007  \n",
      "13568                 1  1999  \n",
      "92727                 0  2022  \n"
     ]
    }
   ],
   "source": [
    "# Features finais (apenas numericas)\n",
    "final_features = ['property_type_encoded', 'county_encoded', 'old_new_encoded', 'duration_encoded', 'year']\n",
    "\n",
    "# Criar X_train e X_test finais\n",
    "X_train = X_train_temp[final_features].copy()\n",
    "X_test = X_test_temp[final_features].copy()\n",
    "\n",
    "print(\"Datasets finais preparados:\")\n",
    "print(f\"X_train shape: {X_train.shape}\")\n",
    "print(f\"X_test shape: {X_test.shape}\")\n",
    "print(f\"y_train shape: {y_train.shape}\")\n",
    "print(f\"y_test shape: {y_test.shape}\")\n",
    "print(f\"\\nFeatures: {final_features}\")\n",
    "print(f\"\\nPrimeiras linhas de X_train:\")\n",
    "print(X_train.head())"
   ]
  },
  {
   "cell_type": "markdown",
   "metadata": {},
   "source": [
    "## Retreinamento com Dados Corretos\n",
    "\n",
    "Treinar todos os modelos novamente com encoding correto (sem data leakage)."
   ]
  },
  {
   "cell_type": "code",
   "execution_count": 35,
   "metadata": {},
   "outputs": [
    {
     "name": "stdout",
     "output_type": "stream",
     "text": [
      "RETREINAMENTO DOS MODELOS\n",
      "\n",
      "======================================================================\n",
      "\n",
      "Treinando Linear Regression...\n",
      "  MAE:  £127,659\n",
      "  RMSE: £1,253,381\n",
      "  R2:   0.0172\n",
      "  Tempo: 0.03s\n",
      "\n",
      "Treinando Ridge...\n",
      "  MAE:  £127,658\n",
      "  RMSE: £1,253,381\n",
      "  R2:   0.0172\n",
      "  Tempo: 0.02s\n",
      "\n",
      "Treinando Random Forest...\n",
      "  MAE:  £114,317\n",
      "  RMSE: £1,292,528\n",
      "  R2:   -0.0451\n",
      "  Tempo: 2.93s\n",
      "\n",
      "Treinando XGBoost...\n"
     ]
    },
    {
     "name": "stdout",
     "output_type": "stream",
     "text": [
      "  MAE:  £112,282\n",
      "  RMSE: £1,293,263\n",
      "  R2:   -0.0463\n",
      "  Tempo: 13.78s\n",
      "\n",
      "Treinando LightGBM...\n",
      "  MAE:  £111,455\n",
      "  RMSE: £1,279,593\n",
      "  R2:   -0.0243\n",
      "  Tempo: 1.60s\n",
      "\n",
      "======================================================================\n",
      "Retreinamento concluido!\n"
     ]
    }
   ],
   "source": [
    "import time\n",
    "\n",
    "# Dicionario de modelos\n",
    "models_corrected = {\n",
    "    'Linear Regression': LinearRegression(),\n",
    "    'Ridge': Ridge(alpha=1.0),\n",
    "    'Random Forest': RandomForestRegressor(n_estimators=100, random_state=42, n_jobs=-1),\n",
    "    'XGBoost': XGBRegressor(n_estimators=100, random_state=42, n_jobs=-1, verbosity=0),\n",
    "    'LightGBM': LGBMRegressor(n_estimators=100, random_state=42, n_jobs=-1, verbose=-1)\n",
    "}\n",
    "\n",
    "# Resultados\n",
    "results_corrected = {}\n",
    "\n",
    "print(\"RETREINAMENTO DOS MODELOS\\n\")\n",
    "print(\"=\" * 70)\n",
    "\n",
    "for name, model in models_corrected.items():\n",
    "    print(f\"\\nTreinando {name}...\")\n",
    "    \n",
    "    # Treinar\n",
    "    start = time.time()\n",
    "    model.fit(X_train, y_train)\n",
    "    train_time = time.time() - start\n",
    "    \n",
    "    # Prever\n",
    "    y_pred = model.predict(X_test)\n",
    "    \n",
    "    # Metricas\n",
    "    mae = mean_absolute_error(y_test, y_pred)\n",
    "    rmse = np.sqrt(mean_squared_error(y_test, y_pred))\n",
    "    r2 = r2_score(y_test, y_pred)\n",
    "    \n",
    "    # Armazenar\n",
    "    results_corrected[name] = {\n",
    "        'model': model,\n",
    "        'mae': mae,\n",
    "        'rmse': rmse,\n",
    "        'r2': r2,\n",
    "        'train_time': train_time\n",
    "    }\n",
    "    \n",
    "    print(f\"  MAE:  £{mae:,.0f}\")\n",
    "    print(f\"  RMSE: £{rmse:,.0f}\")\n",
    "    print(f\"  R2:   {r2:.4f}\")\n",
    "    print(f\"  Tempo: {train_time:.2f}s\")\n",
    "\n",
    "print(\"\\n\" + \"=\" * 70)\n",
    "print(\"Retreinamento concluido!\")"
   ]
  },
  {
   "cell_type": "markdown",
   "metadata": {},
   "source": [
    "## Investigacao: Por que os modelos estao ruins?\n",
    "\n",
    "Analisar distribuicao dos erros e outliers."
   ]
  },
  {
   "cell_type": "code",
   "execution_count": 36,
   "metadata": {},
   "outputs": [
    {
     "name": "stdout",
     "output_type": "stream",
     "text": [
      "ANALISE DOS ERROS\n",
      "\n",
      "Erro medio: £-1,255\n",
      "Erro mediano: £-15,732\n",
      "Desvio padrao do erro: £1,279,625\n",
      "\n",
      "Erro minimo: £-14,885,704\n",
      "Erro maximo: £161,158,996\n",
      "\n",
      "Distribuicao do target (y_test):\n",
      "Media: £232,950\n",
      "Mediana: £156,000\n",
      "Max: £162,287,743\n",
      "Min: £300\n",
      "\n",
      "Outliers extremos no test (>Q3+3*IQR): 491 (2.46%)\n",
      "Exemplo de outliers extremos:\n",
      "89597    162287743\n",
      "76011     55460000\n",
      "58640     18000000\n",
      "86582     17159292\n",
      "77134     17000000\n",
      "Name: price, dtype: int64\n"
     ]
    }
   ],
   "source": [
    "# Analise dos erros do melhor modelo ate agora (LightGBM)\n",
    "best_model = results_corrected['LightGBM']['model']\n",
    "y_pred_lgbm = best_model.predict(X_test)\n",
    "\n",
    "# Calcular erros\n",
    "errors = y_test - y_pred_lgbm\n",
    "\n",
    "print(\"ANALISE DOS ERROS\\n\")\n",
    "print(f\"Erro medio: £{errors.mean():,.0f}\")\n",
    "print(f\"Erro mediano: £{errors.median():,.0f}\")\n",
    "print(f\"Desvio padrao do erro: £{errors.std():,.0f}\")\n",
    "print(f\"\\nErro minimo: £{errors.min():,.0f}\")\n",
    "print(f\"Erro maximo: £{errors.max():,.0f}\")\n",
    "\n",
    "# Verificar outliers no test set\n",
    "print(f\"\\nDistribuicao do target (y_test):\")\n",
    "print(f\"Media: £{y_test.mean():,.0f}\")\n",
    "print(f\"Mediana: £{y_test.median():,.0f}\")\n",
    "print(f\"Max: £{y_test.max():,.0f}\")\n",
    "print(f\"Min: £{y_test.min():,.0f}\")\n",
    "\n",
    "# Quantos outliers extremos temos?\n",
    "Q1 = y_test.quantile(0.25)\n",
    "Q3 = y_test.quantile(0.75)\n",
    "IQR = Q3 - Q1\n",
    "outliers_extreme = y_test[(y_test > Q3 + 3*IQR)]\n",
    "\n",
    "print(f\"\\nOutliers extremos no test (>Q3+3*IQR): {len(outliers_extreme)} ({len(outliers_extreme)/len(y_test)*100:.2f}%)\")\n",
    "print(f\"Exemplo de outliers extremos:\")\n",
    "print(outliers_extreme.nlargest(5))"
   ]
  },
  {
   "cell_type": "markdown",
   "metadata": {},
   "source": [
    "## Solucao: Adicionar Feature de Localizacao Granular\n",
    "\n",
    "O problema eh que county eh muito amplo. Vou extrair a REGIAO do postcode para ter localizacao mais precisa.\n",
    "\n",
    "Exemplo: \"SW1A 1AA\" → \"SW1\" (regiao de Westminster, Londres)\n",
    "\n",
    "Isso vai de 132 condados para ~2,253 regioes, capturando diferencas dentro da mesma cidade."
   ]
  },
  {
   "cell_type": "code",
   "execution_count": 37,
   "metadata": {},
   "outputs": [
    {
     "name": "stdout",
     "output_type": "stream",
     "text": [
      "Dataset com postcode: 99,831 linhas\n",
      "Regioes unicas: 2253\n",
      "\n",
      "Exemplo de regioes:\n",
      "postcode_region\n",
      "CR0     237\n",
      "BN3     235\n",
      "E14     189\n",
      "LE2     176\n",
      "BN2     176\n",
      "SW11    174\n",
      "BS16    169\n",
      "BN1     164\n",
      "LE3     161\n",
      "SW19    161\n",
      "Name: count, dtype: int64\n"
     ]
    }
   ],
   "source": [
    "# Voltar ao dataset original e adicionar postcode_region\n",
    "df_v2 = df[['property_type', 'county', 'postcode', 'old_new', 'duration', 'year', 'price']].copy()\n",
    "df_v2 = df_v2.dropna(subset=['postcode'])\n",
    "\n",
    "# Extrair regiao do postcode (primeiros caracteres antes do espaco)\n",
    "df_v2['postcode_region'] = df_v2['postcode'].str.split().str[0]\n",
    "\n",
    "print(f\"Dataset com postcode: {len(df_v2):,} linhas\")\n",
    "print(f\"Regioes unicas: {df_v2['postcode_region'].nunique()}\")\n",
    "print(f\"\\nExemplo de regioes:\")\n",
    "print(df_v2['postcode_region'].value_counts().head(10))"
   ]
  },
  {
   "cell_type": "markdown",
   "metadata": {},
   "source": [
    "### Encoding das Features (incluindo postcode_region)\n",
    "\n",
    "Label encoding para features simples, depois split, depois target encoding."
   ]
  },
  {
   "cell_type": "code",
   "execution_count": 38,
   "metadata": {},
   "outputs": [
    {
     "name": "stdout",
     "output_type": "stream",
     "text": [
      "property_type: 5 categorias\n",
      "old_new: 2 categorias\n",
      "duration: 3 categorias\n",
      "\n",
      "Colunas apos encoding:\n",
      "['property_type', 'county', 'postcode', 'old_new', 'duration', 'year', 'price', 'postcode_region', 'property_type_enc', 'old_new_enc', 'duration_enc']\n"
     ]
    }
   ],
   "source": [
    "# Label encoding das features com poucas categorias\n",
    "categorical_simple = ['property_type', 'old_new', 'duration']\n",
    "encoders_v2 = {}\n",
    "\n",
    "for col in categorical_simple:\n",
    "    le = LabelEncoder()\n",
    "    df_v2[col + '_enc'] = le.fit_transform(df_v2[col].astype(str))\n",
    "    encoders_v2[col] = le\n",
    "    print(f\"{col}: {len(le.classes_)} categorias\")\n",
    "\n",
    "print(\"\\nColunas apos encoding:\")\n",
    "print(df_v2.columns.tolist())"
   ]
  },
  {
   "cell_type": "markdown",
   "metadata": {},
   "source": [
    "### Train/Test Split\n",
    "\n",
    "Dividir ANTES de fazer target encoding de county e postcode_region."
   ]
  },
  {
   "cell_type": "code",
   "execution_count": 40,
   "metadata": {},
   "outputs": [
    {
     "name": "stdout",
     "output_type": "stream",
     "text": [
      "Train: 79,864 linhas\n",
      "Test: 19,967 linhas\n"
     ]
    }
   ],
   "source": [
    "# Preparar X e y\n",
    "features_v2 = ['property_type_enc', 'county', 'postcode_region', 'old_new_enc', 'duration_enc', 'year']\n",
    "X_v2 = df_v2[features_v2]\n",
    "y_v2 = df_v2['price']\n",
    "\n",
    "# Split 80/20\n",
    "X_train_v2, X_test_v2, y_train_v2, y_test_v2 = train_test_split(\n",
    "    X_v2, y_v2,\n",
    "    test_size=0.2,\n",
    "    random_state=42\n",
    ")\n",
    "\n",
    "print(f\"Train: {len(X_train_v2):,} linhas\")\n",
    "print(f\"Test: {len(X_test_v2):,} linhas\")"
   ]
  },
  {
   "cell_type": "markdown",
   "metadata": {},
   "source": [
    "### Target Encoding (county e postcode_region)\n",
    "\n",
    "Calcular preco medio usando APENAS train set."
   ]
  },
  {
   "cell_type": "code",
   "execution_count": 41,
   "metadata": {},
   "outputs": [
    {
     "name": "stdout",
     "output_type": "stream",
     "text": [
      "County map: 131 condados\n",
      "Postcode map: 2240 regioes\n",
      "\n",
      "Target encoding aplicado\n",
      "Missing em train: 0\n",
      "Missing em test: 0\n"
     ]
    }
   ],
   "source": [
    "# Target encoding usando apenas train\n",
    "train_data = X_train_v2.join(y_train_v2)\n",
    "\n",
    "county_map_v2 = train_data.groupby('county')['price'].mean()\n",
    "postcode_map_v2 = train_data.groupby('postcode_region')['price'].mean()\n",
    "\n",
    "print(f\"County map: {len(county_map_v2)} condados\")\n",
    "print(f\"Postcode map: {len(postcode_map_v2)} regioes\")\n",
    "\n",
    "# Aplicar em train\n",
    "X_train_v2 = X_train_v2.copy()\n",
    "X_train_v2['county_enc'] = X_train_v2['county'].map(county_map_v2)\n",
    "X_train_v2['postcode_region_enc'] = X_train_v2['postcode_region'].map(postcode_map_v2)\n",
    "\n",
    "# Aplicar em test (com fillna para regioes nao vistas)\n",
    "X_test_v2 = X_test_v2.copy()\n",
    "X_test_v2['county_enc'] = X_test_v2['county'].map(county_map_v2).fillna(county_map_v2.median())\n",
    "X_test_v2['postcode_region_enc'] = X_test_v2['postcode_region'].map(postcode_map_v2).fillna(postcode_map_v2.median())\n",
    "\n",
    "print(\"\\nTarget encoding aplicado\")\n",
    "print(f\"Missing em train: {X_train_v2.isnull().sum().sum()}\")\n",
    "print(f\"Missing em test: {X_test_v2.isnull().sum().sum()}\")"
   ]
  },
  {
   "cell_type": "markdown",
   "metadata": {},
   "source": [
    "### Preparar Features Finais\n",
    "\n",
    "Selecionar apenas colunas numericas."
   ]
  },
  {
   "cell_type": "code",
   "execution_count": 42,
   "metadata": {},
   "outputs": [
    {
     "name": "stdout",
     "output_type": "stream",
     "text": [
      "X_train_final: (79864, 6)\n",
      "X_test_final: (19967, 6)\n",
      "Features: ['property_type_enc', 'county_enc', 'postcode_region_enc', 'old_new_enc', 'duration_enc', 'year']\n",
      "\n",
      "Sem NaN: True\n"
     ]
    }
   ],
   "source": [
    "# Features finais\n",
    "final_features_v2 = ['property_type_enc', 'county_enc', 'postcode_region_enc', \n",
    "                     'old_new_enc', 'duration_enc', 'year']\n",
    "\n",
    "X_train_final = X_train_v2[final_features_v2].copy()\n",
    "X_test_final = X_test_v2[final_features_v2].copy()\n",
    "\n",
    "# Garantir sem NaN\n",
    "X_train_final = X_train_final.fillna(X_train_final.median())\n",
    "X_test_final = X_test_final.fillna(X_test_final.median())\n",
    "\n",
    "# Transformacao log do target\n",
    "y_train_log_v2 = np.log(y_train_v2)\n",
    "y_test_log_v2 = np.log(y_test_v2)\n",
    "\n",
    "print(f\"X_train_final: {X_train_final.shape}\")\n",
    "print(f\"X_test_final: {X_test_final.shape}\")\n",
    "print(f\"Features: {final_features_v2}\")\n",
    "print(f\"\\nSem NaN: {X_train_final.isnull().sum().sum() == 0 and X_test_final.isnull().sum().sum() == 0}\")"
   ]
  },
  {
   "cell_type": "markdown",
   "metadata": {},
   "source": [
    "## Retreinamento com Postcode Region\n",
    "\n",
    "Treinar modelos com 6 features (baseline + postcode_region)."
   ]
  },
  {
   "cell_type": "code",
   "execution_count": 43,
   "metadata": {},
   "outputs": [
    {
     "name": "stdout",
     "output_type": "stream",
     "text": [
      "RETREINAMENTO COM 6 FEATURES (+ postcode_region)\n",
      "================================================================================\n",
      "\n",
      "Ridge:\n",
      "  MAE:  £124,426\n",
      "  RMSE: £3,806,083\n",
      "  R2:   -39.1331\n",
      "  Tempo: 0.02s\n",
      "\n",
      "Random Forest:\n",
      "  MAE:  £86,796\n",
      "  RMSE: £566,290\n",
      "  R2:   0.1116\n",
      "  Tempo: 7.50s\n",
      "\n",
      "XGBoost:\n",
      "  MAE:  £81,673\n",
      "  RMSE: £570,867\n",
      "  R2:   0.0971\n",
      "  Tempo: 5.67s\n",
      "\n",
      "LightGBM:\n",
      "  MAE:  £82,874\n",
      "  RMSE: £567,727\n",
      "  R2:   0.1071\n",
      "  Tempo: 1.40s\n",
      "\n",
      "================================================================================\n"
     ]
    }
   ],
   "source": [
    "import time\n",
    "\n",
    "# Modelos\n",
    "models_final = {\n",
    "    'Ridge': Ridge(alpha=1.0),\n",
    "    'Random Forest': RandomForestRegressor(n_estimators=100, random_state=42, n_jobs=-1),\n",
    "    'XGBoost': XGBRegressor(n_estimators=100, random_state=42, n_jobs=-1, verbosity=0),\n",
    "    'LightGBM': LGBMRegressor(n_estimators=100, random_state=42, n_jobs=-1, verbose=-1)\n",
    "}\n",
    "\n",
    "results_final = {}\n",
    "\n",
    "print(\"RETREINAMENTO COM 6 FEATURES (+ postcode_region)\")\n",
    "print(\"=\" * 80)\n",
    "\n",
    "for name, model in models_final.items():\n",
    "    print(f\"\\n{name}:\")\n",
    "    \n",
    "    start = time.time()\n",
    "    \n",
    "    # Treinar com target log\n",
    "    model.fit(X_train_final, y_train_log_v2)\n",
    "    \n",
    "    # Prever\n",
    "    y_pred_log = model.predict(X_test_final)\n",
    "    y_pred = np.exp(y_pred_log)\n",
    "    \n",
    "    train_time = time.time() - start\n",
    "    \n",
    "    # Metricas na escala original\n",
    "    mae = mean_absolute_error(y_test_v2, y_pred)\n",
    "    rmse = np.sqrt(mean_squared_error(y_test_v2, y_pred))\n",
    "    r2 = r2_score(y_test_v2, y_pred)\n",
    "    \n",
    "    results_final[name] = {\n",
    "        'model': model,\n",
    "        'mae': mae,\n",
    "        'rmse': rmse,\n",
    "        'r2': r2,\n",
    "        'train_time': train_time,\n",
    "        'predictions': y_pred\n",
    "    }\n",
    "    \n",
    "    print(f\"  MAE:  £{mae:,.0f}\")\n",
    "    print(f\"  RMSE: £{rmse:,.0f}\")\n",
    "    print(f\"  R2:   {r2:.4f}\")\n",
    "    print(f\"  Tempo: {train_time:.2f}s\")\n",
    "\n",
    "print(\"\\n\" + \"=\" * 80)"
   ]
  },
  {
   "cell_type": "markdown",
   "metadata": {},
   "source": [
    "## Tabela Comparativa Final\n",
    "\n",
    "Comparar todos os modelos e escolher o melhor."
   ]
  },
  {
   "cell_type": "code",
   "execution_count": 44,
   "metadata": {},
   "outputs": [
    {
     "name": "stdout",
     "output_type": "stream",
     "text": [
      "\n",
      "TABELA COMPARATIVA FINAL\n",
      "================================================================================\n",
      "        Model         R2           MAE         RMSE  Train Time (s)\n",
      "Random Forest   0.111567  86795.808801 5.662903e+05        7.500002\n",
      "     LightGBM   0.107052  82873.924960 5.677272e+05        1.401719\n",
      "      XGBoost   0.097148  81672.945312 5.708671e+05        5.667356\n",
      "        Ridge -39.133136 124425.839156 3.806083e+06        0.016124\n",
      "\n",
      "MELHOR MODELO: Random Forest\n",
      "  R2:  0.1116 (11.16%)\n",
      "  MAE: £86,796\n"
     ]
    }
   ],
   "source": [
    "# Criar tabela comparativa\n",
    "comparison_final = []\n",
    "\n",
    "for name, data in results_final.items():\n",
    "    comparison_final.append({\n",
    "        'Model': name,\n",
    "        'R2': data['r2'],\n",
    "        'MAE': data['mae'],\n",
    "        'RMSE': data['rmse'],\n",
    "        'Train Time (s)': data['train_time']\n",
    "    })\n",
    "\n",
    "comparison_df_final = pd.DataFrame(comparison_final)\n",
    "comparison_df_final = comparison_df_final.sort_values('R2', ascending=False)\n",
    "\n",
    "print(\"\\nTABELA COMPARATIVA FINAL\")\n",
    "print(\"=\" * 80)\n",
    "print(comparison_df_final.to_string(index=False))\n",
    "\n",
    "# Melhor modelo\n",
    "best_model_name = comparison_df_final.iloc[0]['Model']\n",
    "best_r2 = comparison_df_final.iloc[0]['R2']\n",
    "best_mae = comparison_df_final.iloc[0]['MAE']\n",
    "\n",
    "print(f\"\\nMELHOR MODELO: {best_model_name}\")\n",
    "print(f\"  R2:  {best_r2:.4f} ({best_r2*100:.2f}%)\")\n",
    "print(f\"  MAE: £{best_mae:,.0f}\")"
   ]
  },
  {
   "cell_type": "markdown",
   "metadata": {},
   "source": [
    "## Visualizacao das Predicoes\n",
    "\n",
    "Comparar valores reais vs previstos do Random Forest."
   ]
  },
  {
   "cell_type": "code",
   "execution_count": 46,
   "metadata": {},
   "outputs": [
    {
     "data": {
      "image/png": "[encoded data removed]",
      "text/plain": [
       "<Figure size 1600x600 with 2 Axes>"
      ]
     },
     "metadata": {},
     "output_type": "display_data"
    },
    {
     "name": "stdout",
     "output_type": "stream",
     "text": [
      "\n",
      "Imoveis ate £1M: 19,696 (98.6%)\n",
      "R2 apenas para imoveis ate £1M: 0.2705\n"
     ]
    }
   ],
   "source": [
    "fig, (ax1, ax2) = plt.subplots(1, 2, figsize=(16, 6))\n",
    "\n",
    "# Grafico 1: Escala log\n",
    "ax1.scatter(y_test_v2, rf_predictions, alpha=0.4, s=10)\n",
    "ax1.plot([y_test_v2.min(), y_test_v2.max()], \n",
    "         [y_test_v2.min(), y_test_v2.max()], \n",
    "         'r--', linewidth=2, label='Predicao Perfeita')\n",
    "ax1.set_xscale('log')\n",
    "ax1.set_yscale('log')\n",
    "ax1.set_xlabel('Preco Real (£) - Escala Log')\n",
    "ax1.set_ylabel('Preco Previsto (£) - Escala Log')\n",
    "ax1.set_title('Real vs Previsto - Escala Logaritmica')\n",
    "ax1.legend()\n",
    "ax1.grid(True, alpha=0.3)\n",
    "\n",
    "# Grafico 2: Zoom em imoveis ate £1M (95% dos dados)\n",
    "mask = (y_test_v2 <= 1_000_000)\n",
    "ax2.scatter(y_test_v2[mask], rf_predictions[mask], alpha=0.4, s=10)\n",
    "ax2.plot([0, 1_000_000], [0, 1_000_000], 'r--', linewidth=2, label='Predicao Perfeita')\n",
    "ax2.set_xlabel('Preco Real (£)')\n",
    "ax2.set_ylabel('Preco Previsto (£)')\n",
    "ax2.set_title(f'Real vs Previsto - Imoveis ate £1M ({mask.sum():,} casos)')\n",
    "ax2.legend()\n",
    "ax2.grid(True, alpha=0.3)\n",
    "\n",
    "plt.tight_layout()\n",
    "plt.show()\n",
    "\n",
    "print(f\"\\nImoveis ate £1M: {mask.sum():,} ({mask.sum()/len(y_test_v2)*100:.1f}%)\")\n",
    "print(f\"R2 apenas para imoveis ate £1M: {r2_score(y_test_v2[mask], rf_predictions[mask]):.4f}\")"
   ]
  },
  {
   "cell_type": "markdown",
   "metadata": {},
   "source": [
    "## Exportacao do Modelo para Producao\n",
    "\n",
    "Salvar modelo Random Forest e todos os componentes necessarios para fazer predicoes em producao."
   ]
  },
  {
   "cell_type": "code",
   "execution_count": 47,
   "metadata": {},
   "outputs": [
    {
     "name": "stdout",
     "output_type": "stream",
     "text": [
      "Modelo salvo: models/random_forest_model.joblib\n",
      "Encoders salvos: models/label_encoders.joblib\n",
      "Target encodings salvos: models/target_encodings.joblib\n",
      "Metadata salvo: models/model_metadata.joblib\n",
      "\n",
      "Arquivos exportados:\n",
      "  1. random_forest_model.joblib (modelo treinado)\n",
      "  2. label_encoders.joblib (encoders de categoricas)\n",
      "  3. target_encodings.joblib (mapas de county/postcode)\n",
      "  4. model_metadata.joblib (metricas e config)\n"
     ]
    }
   ],
   "source": [
    "import os\n",
    "\n",
    "# Criar pasta para modelos se nao existir\n",
    "os.makedirs('models', exist_ok=True)\n",
    "\n",
    "# 1. Salvar modelo treinado\n",
    "best_model = results_final['Random Forest']['model']\n",
    "joblib.dump(best_model, 'models/random_forest_model.joblib')\n",
    "print(\"Modelo salvo: models/random_forest_model.joblib\")\n",
    "\n",
    "# 2. Salvar encoders (property_type, old_new, duration)\n",
    "joblib.dump(encoders_v2, 'models/label_encoders.joblib')\n",
    "print(\"Encoders salvos: models/label_encoders.joblib\")\n",
    "\n",
    "# 3. Salvar mapeamentos de target encoding\n",
    "target_encodings = {\n",
    "    'county_map': county_map_v2.to_dict(),\n",
    "    'postcode_map': postcode_map_v2.to_dict()\n",
    "}\n",
    "joblib.dump(target_encodings, 'models/target_encodings.joblib')\n",
    "print(\"Target encodings salvos: models/target_encodings.joblib\")\n",
    "\n",
    "# 4. Salvar metadata do modelo\n",
    "metadata = {\n",
    "    'model_type': 'RandomForestRegressor',\n",
    "    'n_estimators': 100,\n",
    "    'features': final_features_v2,\n",
    "    'target_transform': 'log',\n",
    "    'trained_date': datetime.now().isoformat(),\n",
    "    'training_samples': len(X_train_final),\n",
    "    'metrics': {\n",
    "        'r2': results_final['Random Forest']['r2'],\n",
    "        'r2_under_1m': 0.2705,\n",
    "        'mae': results_final['Random Forest']['mae'],\n",
    "        'rmse': results_final['Random Forest']['rmse']\n",
    "    },\n",
    "    'encoding_strategy': {\n",
    "        'property_type': 'label',\n",
    "        'old_new': 'label',\n",
    "        'duration': 'label',\n",
    "        'county': 'target',\n",
    "        'postcode_region': 'target'\n",
    "    }\n",
    "}\n",
    "joblib.dump(metadata, 'models/model_metadata.joblib')\n",
    "print(\"Metadata salvo: models/model_metadata.joblib\")\n",
    "\n",
    "print(\"\\nArquivos exportados:\")\n",
    "print(\"  1. random_forest_model.joblib (modelo treinado)\")\n",
    "print(\"  2. label_encoders.joblib (encoders de categoricas)\")\n",
    "print(\"  3. target_encodings.joblib (mapas de county/postcode)\")\n",
    "print(\"  4. model_metadata.joblib (metricas e config)\")"
   ]
  }
 ],
 "metadata": {
  "kernelspec": {
   "display_name": "venv",
   "language": "python",
   "name": "python3"
  },
  "language_info": {
   "codemirror_mode": {
    "name": "ipython",
    "version": 3
   },
   "file_extension": ".py",
   "mimetype": "text/x-python",
   "name": "python",
   "nbconvert_exporter": "python",
   "pygments_lexer": "ipython3",
   "version": "3.13.3"
  }
 },
 "nbformat": 4,
 "nbformat_minor": 2
}
