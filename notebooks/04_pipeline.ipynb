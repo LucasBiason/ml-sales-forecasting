{
 "cells": [
  {
   "cell_type": "markdown",
   "id": "782069c1",
   "metadata": {},
   "source": [
    "# Pipeline Final - Random Forest Production Model\n",
    "\n",
    "## Objetivo\n",
    "\n",
    "Treinar modelo FINAL para producao:\n",
    "- Usar 100% dos dados (sem train/test split)\n",
    "- Validar com cross-validation\n",
    "- Exportar artefatos completos para API\n",
    "\n",
    "## Configuracao Final\n",
    "\n",
    "Baseado nos notebooks anteriores:\n",
    "- **Modelo**: Random Forest (100 estimators, default params)\n",
    "- **Features**: 6 (property_type, county, postcode_region, old_new, duration, year)\n",
    "- **Encodings**: Label + Target encoding\n",
    "- **Transform**: Log scale no target\n",
    "- **Performance**: R2 = 11.16% (geral), 27% (imoveis ate £1M)"
   ]
  },
  {
   "cell_type": "code",
   "execution_count": 2,
   "id": "af67c445",
   "metadata": {},
   "outputs": [
    {
     "name": "stdout",
     "output_type": "stream",
     "text": [
      "OK - Bibliotecas carregadas\n"
     ]
    }
   ],
   "source": [
    "import pandas as pd\n",
    "import numpy as np\n",
    "import joblib\n",
    "import os\n",
    "from datetime import datetime\n",
    "from sklearn.preprocessing import LabelEncoder\n",
    "from sklearn.ensemble import RandomForestRegressor\n",
    "from sklearn.model_selection import cross_val_score\n",
    "\n",
    "print(\"OK - Bibliotecas carregadas\")"
   ]
  },
  {
   "cell_type": "code",
   "execution_count": 3,
   "id": "a784f4d1",
   "metadata": {},
   "outputs": [
    {
     "name": "stdout",
     "output_type": "stream",
     "text": [
      "Dataset: 99,831 linhas\n"
     ]
    }
   ],
   "source": [
    "df = pd.read_csv('data/uk_property_cleaned.csv')\n",
    "df['transfer_date'] = pd.to_datetime(df['transfer_date'])\n",
    "\n",
    "df_model = df[['property_type', 'county', 'postcode', 'old_new', 'duration', 'year', 'price']].copy()\n",
    "df_model = df_model.dropna(subset=['postcode'])\n",
    "\n",
    "print(f\"Dataset: {len(df_model):,} linhas\")"
   ]
  },
  {
   "cell_type": "code",
   "execution_count": 4,
   "id": "ba7bceec",
   "metadata": {},
   "outputs": [
    {
     "name": "stdout",
     "output_type": "stream",
     "text": [
      "Feature engineering completo!\n"
     ]
    }
   ],
   "source": [
    "# Postcode region\n",
    "df_model['postcode_region'] = df_model['postcode'].str.split().str[0]\n",
    "\n",
    "# Label encoding\n",
    "label_encoders = {}\n",
    "for col in ['property_type', 'old_new', 'duration']:\n",
    "    le = LabelEncoder()\n",
    "    df_model[col + '_enc'] = le.fit_transform(df_model[col].astype(str))\n",
    "    label_encoders[col] = le\n",
    "\n",
    "# Target encoding\n",
    "county_map = df_model.groupby('county')['price'].mean()\n",
    "postcode_map = df_model.groupby('postcode_region')['price'].mean()\n",
    "\n",
    "df_model['county_enc'] = df_model['county'].map(county_map)\n",
    "df_model['postcode_region_enc'] = df_model['postcode_region'].map(postcode_map)\n",
    "\n",
    "print(\"Feature engineering completo!\")"
   ]
  },
  {
   "cell_type": "code",
   "execution_count": 5,
   "id": "6494b600",
   "metadata": {},
   "outputs": [
    {
     "name": "stdout",
     "output_type": "stream",
     "text": [
      "X: (99831, 6), y: (99831,)\n"
     ]
    }
   ],
   "source": [
    "features = ['property_type_enc', 'county_enc', 'postcode_region_enc', \n",
    "            'old_new_enc', 'duration_enc', 'year']\n",
    "\n",
    "X = df_model[features].fillna(df_model[features].median())\n",
    "y = df_model['price']\n",
    "y_log = np.log(y)\n",
    "\n",
    "print(f\"X: {X.shape}, y: {y.shape}\")"
   ]
  },
  {
   "cell_type": "code",
   "execution_count": 6,
   "id": "78352345",
   "metadata": {},
   "outputs": [
    {
     "name": "stdout",
     "output_type": "stream",
     "text": [
      "Cross-validation (5-fold)...\n",
      "R2 medio: 0.4390 (+/- 0.1031)\n"
     ]
    }
   ],
   "source": [
    "print(\"Cross-validation (5-fold)...\")\n",
    "rf_cv = RandomForestRegressor(n_estimators=100, random_state=42, n_jobs=-1)\n",
    "cv_scores = cross_val_score(rf_cv, X, y_log, cv=5, scoring='r2', n_jobs=-1)\n",
    "\n",
    "print(f\"R2 medio: {cv_scores.mean():.4f} (+/- {cv_scores.std():.4f})\")"
   ]
  },
  {
   "cell_type": "code",
   "execution_count": 7,
   "id": "fd276ca1",
   "metadata": {},
   "outputs": [
    {
     "name": "stdout",
     "output_type": "stream",
     "text": [
      "Treinando modelo final com 100% dos dados...\n",
      "Modelo treinado com 99,831 amostras!\n"
     ]
    }
   ],
   "source": [
    "print(\"Treinando modelo final com 100% dos dados...\")\n",
    "final_model = RandomForestRegressor(n_estimators=100, random_state=42, n_jobs=-1)\n",
    "final_model.fit(X, y_log)\n",
    "\n",
    "print(f\"Modelo treinado com {len(X):,} amostras!\")"
   ]
  },
  {
   "cell_type": "code",
   "execution_count": 8,
   "id": "c20af1f6",
   "metadata": {},
   "outputs": [
    {
     "name": "stdout",
     "output_type": "stream",
     "text": [
      "1. Modelo salvo\n",
      "2. Encoders salvos\n",
      "3. Target encodings salvos\n",
      "4. Metadata salvo\n",
      "\n",
      "MODELO FINAL EXPORTADO COM SUCESSO!\n"
     ]
    }
   ],
   "source": [
    "os.makedirs('models', exist_ok=True)\n",
    "\n",
    "# 1. Modelo\n",
    "joblib.dump(final_model, 'models/final_model.joblib')\n",
    "print(\"1. Modelo salvo\")\n",
    "\n",
    "# 2. Encoders\n",
    "joblib.dump(label_encoders, 'models/final_label_encoders.joblib')\n",
    "print(\"2. Encoders salvos\")\n",
    "\n",
    "# 3. Target encodings\n",
    "target_encodings = {\n",
    "    'county_map': county_map.to_dict(),\n",
    "    'postcode_map': postcode_map.to_dict()\n",
    "}\n",
    "joblib.dump(target_encodings, 'models/final_target_encodings.joblib')\n",
    "print(\"3. Target encodings salvos\")\n",
    "\n",
    "# 4. Metadata\n",
    "metadata = {\n",
    "    'model_type': 'RandomForestRegressor',\n",
    "    'n_estimators': 100,\n",
    "    'features': features,\n",
    "    'target_transform': 'log',\n",
    "    'trained_date': datetime.now().isoformat(),\n",
    "    'training_samples': len(X),\n",
    "    'cv_r2_mean': float(cv_scores.mean()),\n",
    "    'cv_r2_std': float(cv_scores.std()),\n",
    "    'expected_r2': 0.1116\n",
    "}\n",
    "joblib.dump(metadata, 'models/final_metadata.joblib')\n",
    "print(\"4. Metadata salvo\")\n",
    "\n",
    "print(\"\\nMODELO FINAL EXPORTADO COM SUCESSO!\")"
   ]
  }
 ],
 "metadata": {
  "kernelspec": {
   "display_name": "venv",
   "language": "python",
   "name": "python3"
  },
  "language_info": {
   "codemirror_mode": {
    "name": "ipython",
    "version": 3
   },
   "file_extension": ".py",
   "mimetype": "text/x-python",
   "name": "python",
   "nbconvert_exporter": "python",
   "pygments_lexer": "ipython3",
   "version": "3.13.3"
  }
 },
 "nbformat": 4,
 "nbformat_minor": 5
}
