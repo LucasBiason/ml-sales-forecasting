{
 "cells": [
  {
   "cell_type": "markdown",
   "id": "f6249906",
   "metadata": {},
   "source": [
    "# Hyperparameter Tuning - Random Forest\n",
    "\n",
    "## Objetivo\n",
    "\n",
    "Otimizar hiperparametros do Random Forest para melhorar a performance.\n",
    "\n",
    "Modelo atual: R2 = 11.16%\n",
    "Meta: R2 = 15-20%\n",
    "\n",
    "## Estrategia\n",
    "\n",
    "Usar RandomizedSearchCV para testar combinacoes aleatorias de hiperparametros:\n",
    "- n_estimators: numero de arvores\n",
    "- max_depth: profundidade maxima das arvores\n",
    "- min_samples_split: minimo de amostras para dividir\n",
    "- min_samples_leaf: minimo de amostras nas folhas\n",
    "\n",
    "RandomizedSearchCV eh mais rapido que GridSearchCV e geralmente encontra bons resultados."
   ]
  },
  {
   "cell_type": "code",
   "execution_count": 1,
   "metadata": {},
   "outputs": [
    {
     "name": "stdout",
     "output_type": "stream",
     "text": [
      "Bibliotecas carregadas\n"
     ]
    }
   ],
   "source": [
    "# Imports\n",
    "import pandas as pd\n",
    "import numpy as np\n",
    "import joblib\n",
    "from sklearn.model_selection import RandomizedSearchCV\n",
    "from sklearn.ensemble import RandomForestRegressor\n",
    "from sklearn.metrics import mean_absolute_error, mean_squared_error, r2_score\n",
    "\n",
    "print(\"Bibliotecas carregadas\")"
   ]
  },
  {
   "cell_type": "markdown",
   "id": "7f69e0aa",
   "metadata": {},
   "source": [
    "## Carregar Dados Preparados\n",
    "\n",
    "Vou carregar os dados que ja foram processados no notebook anterior."
   ]
  },
  {
   "cell_type": "code",
   "execution_count": 2,
   "metadata": {},
   "outputs": [
    {
     "name": "stdout",
     "output_type": "stream",
     "text": [
      "Dataset: 100,000 linhas\n"
     ]
    }
   ],
   "source": [
    "# Carregar dataset limpo\n",
    "df = pd.read_csv('data/uk_property_cleaned.csv')\n",
    "df['transfer_date'] = pd.to_datetime(df['transfer_date'])\n",
    "\n",
    "print(f\"Dataset: {len(df):,} linhas\")"
   ]
  },
  {
   "cell_type": "markdown",
   "id": "bf736e3c",
   "metadata": {},
   "source": [
    "## Preparacao dos Dados\n",
    "\n",
    "Aplicar o mesmo pipeline do notebook 02:\n",
    "1. Extrair postcode_region\n",
    "2. Label encoding (property_type, old_new, duration)\n",
    "3. Train/test split\n",
    "4. Target encoding (county, postcode_region)"
   ]
  },
  {
   "cell_type": "code",
   "execution_count": 3,
   "id": "246022d5",
   "metadata": {},
   "outputs": [
    {
     "name": "stdout",
     "output_type": "stream",
     "text": [
      "X_train: (79864, 6)\n",
      "X_test: (19967, 6)\n",
      "Dados preparados!\n"
     ]
    }
   ],
   "source": [
    "from sklearn.model_selection import train_test_split\n",
    "from sklearn.preprocessing import LabelEncoder\n",
    "\n",
    "# Preparar dataset\n",
    "df_model = df[['property_type', 'county', 'postcode', 'old_new', 'duration', 'year', 'price']].copy()\n",
    "df_model = df_model.dropna(subset=['postcode'])\n",
    "\n",
    "# Extrair regiao do postcode\n",
    "df_model['postcode_region'] = df_model['postcode'].str.split().str[0]\n",
    "\n",
    "# Label encoding\n",
    "for col in ['property_type', 'old_new', 'duration']:\n",
    "    le = LabelEncoder()\n",
    "    df_model[col + '_enc'] = le.fit_transform(df_model[col].astype(str))\n",
    "\n",
    "# Preparar X e y\n",
    "X_temp = df_model[['property_type_enc', 'county', 'postcode_region', 'old_new_enc', 'duration_enc', 'year']]\n",
    "y = df_model['price']\n",
    "\n",
    "# Split\n",
    "X_train_temp, X_test_temp, y_train, y_test = train_test_split(X_temp, y, test_size=0.2, random_state=42)\n",
    "\n",
    "# Target encoding (apenas train)\n",
    "train_data = X_train_temp.join(y_train)\n",
    "county_map = train_data.groupby('county')['price'].mean()\n",
    "postcode_map = train_data.groupby('postcode_region')['price'].mean()\n",
    "\n",
    "X_train_temp = X_train_temp.copy()\n",
    "X_test_temp = X_test_temp.copy()\n",
    "\n",
    "X_train_temp['county_enc'] = X_train_temp['county'].map(county_map)\n",
    "X_train_temp['postcode_region_enc'] = X_train_temp['postcode_region'].map(postcode_map)\n",
    "\n",
    "X_test_temp['county_enc'] = X_test_temp['county'].map(county_map).fillna(county_map.median())\n",
    "X_test_temp['postcode_region_enc'] = X_test_temp['postcode_region'].map(postcode_map).fillna(postcode_map.median())\n",
    "\n",
    "# Features finais\n",
    "features = ['property_type_enc', 'county_enc', 'postcode_region_enc', 'old_new_enc', 'duration_enc', 'year']\n",
    "X_train = X_train_temp[features].fillna(X_train_temp[features].median())\n",
    "X_test = X_test_temp[features].fillna(X_test_temp[features].median())\n",
    "\n",
    "# Log transform\n",
    "y_train_log = np.log(y_train)\n",
    "y_test_log = np.log(y_test)\n",
    "\n",
    "print(f\"X_train: {X_train.shape}\")\n",
    "print(f\"X_test: {X_test.shape}\")\n",
    "print(\"Dados preparados!\")"
   ]
  },
  {
   "cell_type": "markdown",
   "id": "e13c0063",
   "metadata": {},
   "source": [
    "## RandomizedSearchCV\n",
    "\n",
    "Definir espaco de busca de hiperparametros e executar otimizacao.\n",
    "\n",
    "RandomizedSearchCV testa combinacoes aleatorias, mais rapido que GridSearch."
   ]
  },
  {
   "cell_type": "code",
   "execution_count": 8,
   "id": "ae42f72c",
   "metadata": {},
   "outputs": [
    {
     "name": "stdout",
     "output_type": "stream",
     "text": [
      "Espaco de busca V2 (expanded):\n",
      "  n_estimators: [50, 100, 150, 200]\n",
      "  max_depth: [10, 15, 20, 25, None]\n",
      "  min_samples_split: [2, 4, 8, 10]\n",
      "  min_samples_leaf: [1, 2, 4, 8]\n",
      "  max_features: ['sqrt', 'log2', 0.7, 0.8, 0.9]\n",
      "  max_samples: [0.8, 0.9, 1.0]\n",
      "\n",
      "Total de combinacoes: 4800\n",
      "RandomizedSearchCV vai testar 30 combinacoes\n"
     ]
    }
   ],
   "source": [
    "# Espaco de busca EXPANDIDO e REFINADO\n",
    "param_distributions_v2 = {\n",
    "    'n_estimators': [50, 100, 150, 200],\n",
    "    'max_depth': [10, 15, 20, 25, None],\n",
    "    'min_samples_split': [2, 4, 8, 10],\n",
    "    'min_samples_leaf': [1, 2, 4, 8],\n",
    "    'max_features': ['sqrt', 'log2', 0.7, 0.8, 0.9],\n",
    "    'max_samples': [0.8, 0.9, 1.0]  # NOVO: Bootstrap sampling\n",
    "}\n",
    "\n",
    "print(\"Espaco de busca V2 (expanded):\")\n",
    "for param, values in param_distributions_v2.items():\n",
    "    print(f\"  {param}: {values}\")\n",
    "\n",
    "# Calcular total\n",
    "total_v2 = 1\n",
    "for values in param_distributions_v2.values():\n",
    "    total_v2 *= len(values)\n",
    "print(f\"\\nTotal de combinacoes: {total_v2}\")\n",
    "print(\"RandomizedSearchCV vai testar 30 combinacoes\")"
   ]
  },
  {
   "cell_type": "markdown",
   "id": "f77be89b",
   "metadata": {},
   "source": [
    "### Executar RandomizedSearchCV\n",
    "\n",
    "Isso vai demorar ~3-5 minutos dependendo do hardware."
   ]
  },
  {
   "cell_type": "code",
   "execution_count": 9,
   "id": "120b74d4",
   "metadata": {},
   "outputs": [
    {
     "name": "stdout",
     "output_type": "stream",
     "text": [
      "Iniciando busca REFINADA...\n",
      "Testando 30 combinacoes (pode demorar 5-8 min)\n",
      "\n",
      "Fitting 3 folds for each of 30 candidates, totalling 90 fits\n"
     ]
    },
    {
     "name": "stdout",
     "output_type": "stream",
     "text": [
      "[CV] END max_depth=10, max_features=0.9, max_samples=0.9, min_samples_leaf=2, min_samples_split=10, n_estimators=50; total time=  13.8s\n",
      "[CV] END max_depth=25, max_features=log2, max_samples=0.8, min_samples_leaf=2, min_samples_split=4, n_estimators=50; total time=  14.5s\n",
      "[CV] END max_depth=25, max_features=log2, max_samples=0.8, min_samples_leaf=2, min_samples_split=4, n_estimators=50; total time=  15.6s\n",
      "[CV] END max_depth=25, max_features=log2, max_samples=0.8, min_samples_leaf=2, min_samples_split=4, n_estimators=50; total time=  15.9s\n",
      "[CV] END max_depth=25, max_features=0.9, max_samples=0.9, min_samples_leaf=8, min_samples_split=10, n_estimators=50; total time=  15.9s\n",
      "[CV] END max_depth=10, max_features=0.9, max_samples=0.9, min_samples_leaf=2, min_samples_split=10, n_estimators=50; total time=  16.1s\n",
      "[CV] END max_depth=25, max_features=0.9, max_samples=0.9, min_samples_leaf=8, min_samples_split=10, n_estimators=50; total time=  16.4s\n",
      "[CV] END max_depth=25, max_features=0.7, max_samples=1.0, min_samples_leaf=8, min_samples_split=4, n_estimators=50; total time=  16.3s\n",
      "[CV] END max_depth=10, max_features=0.9, max_samples=0.9, min_samples_leaf=2, min_samples_split=10, n_estimators=50; total time=  17.9s\n",
      "[CV] END max_depth=10, max_features=0.7, max_samples=0.9, min_samples_leaf=2, min_samples_split=2, n_estimators=150; total time=  20.9s\n",
      "[CV] END max_depth=25, max_features=0.9, max_samples=0.9, min_samples_leaf=8, min_samples_split=10, n_estimators=50; total time=  21.4s\n",
      "[CV] END max_depth=10, max_features=0.7, max_samples=0.9, min_samples_leaf=2, min_samples_split=2, n_estimators=150; total time=  24.8s\n",
      "[CV] END max_depth=25, max_features=0.7, max_samples=1.0, min_samples_leaf=8, min_samples_split=4, n_estimators=50; total time=  11.8s\n",
      "[CV] END max_depth=25, max_features=0.7, max_samples=1.0, min_samples_leaf=8, min_samples_split=4, n_estimators=50; total time=  21.8s\n",
      "[CV] END max_depth=10, max_features=0.7, max_samples=0.9, min_samples_leaf=2, min_samples_split=2, n_estimators=150; total time=  34.4s\n",
      "[CV] END max_depth=None, max_features=0.8, max_samples=0.8, min_samples_leaf=1, min_samples_split=8, n_estimators=150; total time=  39.8s\n",
      "[CV] END max_depth=10, max_features=sqrt, max_samples=1.0, min_samples_leaf=1, min_samples_split=2, n_estimators=150; total time=  22.9s\n",
      "[CV] END max_depth=25, max_features=sqrt, max_samples=0.8, min_samples_leaf=4, min_samples_split=4, n_estimators=200; total time=  26.7s\n",
      "[CV] END max_depth=10, max_features=sqrt, max_samples=1.0, min_samples_leaf=1, min_samples_split=2, n_estimators=150; total time=  25.5s\n",
      "[CV] END max_depth=None, max_features=0.8, max_samples=0.8, min_samples_leaf=1, min_samples_split=8, n_estimators=150; total time=  49.4s\n",
      "[CV] END max_depth=None, max_features=0.8, max_samples=0.8, min_samples_leaf=1, min_samples_split=8, n_estimators=150; total time=  51.6s\n",
      "[CV] END max_depth=25, max_features=sqrt, max_samples=0.8, min_samples_leaf=4, min_samples_split=4, n_estimators=200; total time=  33.7s\n",
      "[CV] END max_depth=25, max_features=log2, max_samples=0.9, min_samples_leaf=4, min_samples_split=2, n_estimators=200; total time=  37.1s\n",
      "[CV] END max_depth=10, max_features=sqrt, max_samples=1.0, min_samples_leaf=1, min_samples_split=2, n_estimators=150; total time=  31.8s\n",
      "[CV] END max_depth=15, max_features=0.8, max_samples=1.0, min_samples_leaf=2, min_samples_split=4, n_estimators=100; total time=  28.2s\n",
      "[CV] END max_depth=25, max_features=sqrt, max_samples=0.8, min_samples_leaf=4, min_samples_split=4, n_estimators=200; total time=  39.9s\n",
      "[CV] END max_depth=25, max_features=log2, max_samples=0.9, min_samples_leaf=4, min_samples_split=2, n_estimators=200; total time=  41.9s\n",
      "[CV] END max_depth=25, max_features=log2, max_samples=0.9, min_samples_leaf=4, min_samples_split=2, n_estimators=200; total time=  44.3s\n",
      "[CV] END max_depth=15, max_features=0.8, max_samples=1.0, min_samples_leaf=2, min_samples_split=4, n_estimators=100; total time=  35.5s\n",
      "[CV] END max_depth=10, max_features=0.9, max_samples=0.8, min_samples_leaf=1, min_samples_split=2, n_estimators=100; total time=  22.6s\n",
      "[CV] END max_depth=10, max_features=0.9, max_samples=0.8, min_samples_leaf=1, min_samples_split=2, n_estimators=100; total time=  22.9s\n",
      "[CV] END max_depth=15, max_features=log2, max_samples=0.8, min_samples_leaf=4, min_samples_split=2, n_estimators=50; total time=  12.5s\n",
      "[CV] END max_depth=15, max_features=log2, max_samples=0.8, min_samples_leaf=4, min_samples_split=2, n_estimators=50; total time=  11.3s\n",
      "[CV] END max_depth=15, max_features=log2, max_samples=0.8, min_samples_leaf=4, min_samples_split=2, n_estimators=50; total time=  12.4s\n",
      "[CV] END max_depth=10, max_features=0.9, max_samples=0.8, min_samples_leaf=1, min_samples_split=2, n_estimators=100; total time=  34.4s\n",
      "[CV] END max_depth=15, max_features=0.8, max_samples=1.0, min_samples_leaf=2, min_samples_split=4, n_estimators=100; total time=  39.2s\n",
      "[CV] END max_depth=None, max_features=log2, max_samples=0.9, min_samples_leaf=2, min_samples_split=4, n_estimators=100; total time=  23.3s\n",
      "[CV] END max_depth=25, max_features=sqrt, max_samples=0.8, min_samples_leaf=2, min_samples_split=8, n_estimators=50; total time=  17.8s\n",
      "[CV] END max_depth=25, max_features=0.7, max_samples=0.9, min_samples_leaf=8, min_samples_split=8, n_estimators=100; total time=  35.0s\n",
      "[CV] END max_depth=20, max_features=0.7, max_samples=1.0, min_samples_leaf=1, min_samples_split=2, n_estimators=100; total time=  47.0s\n",
      "[CV] END max_depth=25, max_features=0.7, max_samples=0.9, min_samples_leaf=8, min_samples_split=8, n_estimators=100; total time=  32.6s\n",
      "[CV] END max_depth=25, max_features=0.7, max_samples=0.9, min_samples_leaf=8, min_samples_split=8, n_estimators=100; total time=  38.3s\n",
      "[CV] END max_depth=None, max_features=log2, max_samples=0.9, min_samples_leaf=2, min_samples_split=4, n_estimators=100; total time=  33.8s\n",
      "[CV] END max_depth=20, max_features=0.7, max_samples=1.0, min_samples_leaf=1, min_samples_split=2, n_estimators=100; total time=  53.4s\n",
      "[CV] END max_depth=25, max_features=sqrt, max_samples=0.8, min_samples_leaf=2, min_samples_split=8, n_estimators=50; total time=  11.7s\n",
      "[CV] END max_depth=20, max_features=0.7, max_samples=1.0, min_samples_leaf=1, min_samples_split=2, n_estimators=100; total time=  54.6s\n",
      "[CV] END max_depth=25, max_features=sqrt, max_samples=0.8, min_samples_leaf=2, min_samples_split=8, n_estimators=50; total time=  14.5s\n",
      "[CV] END max_depth=20, max_features=0.7, max_samples=0.9, min_samples_leaf=2, min_samples_split=4, n_estimators=200; total time=  57.1s\n",
      "[CV] END max_depth=None, max_features=log2, max_samples=0.9, min_samples_leaf=2, min_samples_split=4, n_estimators=100; total time=  32.2s\n",
      "[CV] END max_depth=20, max_features=0.7, max_samples=0.9, min_samples_leaf=2, min_samples_split=4, n_estimators=200; total time= 1.2min\n",
      "[CV] END max_depth=20, max_features=0.7, max_samples=0.9, min_samples_leaf=2, min_samples_split=4, n_estimators=200; total time= 1.3min\n",
      "[CV] END max_depth=None, max_features=0.8, max_samples=1.0, min_samples_leaf=1, min_samples_split=8, n_estimators=200; total time= 1.2min\n",
      "[CV] END max_depth=15, max_features=sqrt, max_samples=0.9, min_samples_leaf=8, min_samples_split=8, n_estimators=150; total time=  27.6s\n",
      "[CV] END max_depth=15, max_features=sqrt, max_samples=0.9, min_samples_leaf=8, min_samples_split=8, n_estimators=150; total time=  28.5s\n",
      "[CV] END max_depth=10, max_features=0.7, max_samples=0.9, min_samples_leaf=2, min_samples_split=8, n_estimators=150; total time=  34.2s\n",
      "[CV] END max_depth=10, max_features=0.7, max_samples=0.9, min_samples_leaf=2, min_samples_split=8, n_estimators=150; total time=  34.9s\n",
      "[CV] END max_depth=15, max_features=sqrt, max_samples=0.9, min_samples_leaf=8, min_samples_split=8, n_estimators=150; total time=  29.3s\n",
      "[CV] END max_depth=10, max_features=0.7, max_samples=0.9, min_samples_leaf=2, min_samples_split=8, n_estimators=150; total time=  35.2s\n",
      "[CV] END max_depth=20, max_features=0.8, max_samples=0.8, min_samples_leaf=8, min_samples_split=10, n_estimators=150; total time=  33.2s\n",
      "[CV] END max_depth=None, max_features=0.8, max_samples=1.0, min_samples_leaf=1, min_samples_split=8, n_estimators=200; total time= 1.4min\n",
      "[CV] END max_depth=None, max_features=0.8, max_samples=1.0, min_samples_leaf=1, min_samples_split=8, n_estimators=200; total time= 1.4min\n",
      "[CV] END max_depth=20, max_features=sqrt, max_samples=0.9, min_samples_leaf=8, min_samples_split=10, n_estimators=200; total time=  35.6s\n",
      "[CV] END max_depth=20, max_features=0.8, max_samples=0.8, min_samples_leaf=8, min_samples_split=10, n_estimators=150; total time=  40.2s\n",
      "[CV] END max_depth=20, max_features=0.8, max_samples=0.8, min_samples_leaf=8, min_samples_split=10, n_estimators=150; total time=  38.2s\n",
      "[CV] END max_depth=20, max_features=sqrt, max_samples=0.9, min_samples_leaf=8, min_samples_split=10, n_estimators=200; total time=  33.4s\n",
      "[CV] END max_depth=20, max_features=sqrt, max_samples=0.9, min_samples_leaf=8, min_samples_split=10, n_estimators=200; total time=  40.2s\n",
      "[CV] END max_depth=10, max_features=sqrt, max_samples=1.0, min_samples_leaf=8, min_samples_split=10, n_estimators=100; total time=   9.4s\n",
      "[CV] END max_depth=10, max_features=sqrt, max_samples=1.0, min_samples_leaf=8, min_samples_split=10, n_estimators=100; total time=  13.3s\n",
      "[CV] END max_depth=15, max_features=sqrt, max_samples=0.8, min_samples_leaf=1, min_samples_split=10, n_estimators=200; total time=  30.3s\n",
      "[CV] END max_depth=10, max_features=sqrt, max_samples=1.0, min_samples_leaf=8, min_samples_split=10, n_estimators=100; total time=  18.5s\n",
      "[CV] END max_depth=25, max_features=sqrt, max_samples=0.9, min_samples_leaf=8, min_samples_split=10, n_estimators=100; total time=  14.3s\n",
      "[CV] END max_depth=25, max_features=sqrt, max_samples=0.9, min_samples_leaf=8, min_samples_split=10, n_estimators=100; total time=  19.7s\n",
      "[CV] END max_depth=25, max_features=sqrt, max_samples=0.9, min_samples_leaf=8, min_samples_split=10, n_estimators=100; total time=  25.1s\n",
      "[CV] END max_depth=15, max_features=sqrt, max_samples=0.8, min_samples_leaf=1, min_samples_split=10, n_estimators=200; total time=  41.3s\n",
      "[CV] END max_depth=15, max_features=sqrt, max_samples=0.8, min_samples_leaf=1, min_samples_split=10, n_estimators=200; total time=  48.7s\n",
      "[CV] END max_depth=15, max_features=0.9, max_samples=0.9, min_samples_leaf=1, min_samples_split=10, n_estimators=150; total time=  48.9s\n",
      "[CV] END max_depth=20, max_features=0.9, max_samples=0.8, min_samples_leaf=8, min_samples_split=8, n_estimators=200; total time= 1.0min\n",
      "[CV] END max_depth=20, max_features=0.9, max_samples=0.8, min_samples_leaf=8, min_samples_split=8, n_estimators=200; total time= 1.0min\n",
      "[CV] END max_depth=15, max_features=0.9, max_samples=0.9, min_samples_leaf=1, min_samples_split=10, n_estimators=150; total time=  59.8s\n",
      "[CV] END max_depth=20, max_features=0.9, max_samples=0.8, min_samples_leaf=8, min_samples_split=8, n_estimators=200; total time= 1.1min\n",
      "[CV] END max_depth=15, max_features=0.9, max_samples=0.9, min_samples_leaf=1, min_samples_split=10, n_estimators=150; total time= 1.0min\n",
      "[CV] END max_depth=20, max_features=0.9, max_samples=0.8, min_samples_leaf=4, min_samples_split=10, n_estimators=150; total time=  53.7s\n",
      "[CV] END max_depth=20, max_features=0.9, max_samples=0.8, min_samples_leaf=4, min_samples_split=10, n_estimators=150; total time=  56.6s\n",
      "[CV] END max_depth=20, max_features=0.9, max_samples=0.8, min_samples_leaf=4, min_samples_split=10, n_estimators=150; total time=  58.1s\n",
      "[CV] END max_depth=None, max_features=0.9, max_samples=0.8, min_samples_leaf=8, min_samples_split=2, n_estimators=150; total time=  41.3s\n",
      "[CV] END max_depth=None, max_features=0.9, max_samples=0.8, min_samples_leaf=8, min_samples_split=2, n_estimators=150; total time=  44.0s\n",
      "[CV] END max_depth=None, max_features=0.9, max_samples=0.8, min_samples_leaf=8, min_samples_split=2, n_estimators=150; total time=  37.8s\n",
      "[CV] END max_depth=15, max_features=0.9, max_samples=1.0, min_samples_leaf=4, min_samples_split=8, n_estimators=200; total time=  38.0s\n",
      "[CV] END max_depth=15, max_features=0.9, max_samples=1.0, min_samples_leaf=4, min_samples_split=8, n_estimators=200; total time=  39.7s\n",
      "[CV] END max_depth=15, max_features=0.9, max_samples=1.0, min_samples_leaf=4, min_samples_split=8, n_estimators=200; total time=  37.6s\n",
      "\n",
      "============================================================\n",
      "BUSCA REFINADA CONCLUIDA!\n",
      "============================================================\n",
      "\n",
      "Melhores hiperparametros encontrados:\n",
      "  n_estimators: 200\n",
      "  min_samples_split: 10\n",
      "  min_samples_leaf: 1\n",
      "  max_samples: 0.8\n",
      "  max_features: sqrt\n",
      "  max_depth: 15\n",
      "\n",
      "Melhor score (R2 CV): 0.7228\n"
     ]
    }
   ],
   "source": [
    "# Criar Random Forest base\n",
    "rf_base_v2 = RandomForestRegressor(random_state=42, n_jobs=-1)\n",
    "\n",
    "# RandomizedSearchCV V2\n",
    "random_search_v2 = RandomizedSearchCV(\n",
    "    estimator=rf_base_v2,\n",
    "    param_distributions=param_distributions_v2,\n",
    "    n_iter=30,  # Mais combinacoes\n",
    "    cv=3,\n",
    "    scoring='r2',\n",
    "    random_state=42,\n",
    "    n_jobs=-1,\n",
    "    verbose=2\n",
    ")\n",
    "\n",
    "print(\"Iniciando busca REFINADA...\")\n",
    "print(\"Testando 30 combinacoes (pode demorar 5-8 min)\\n\")\n",
    "\n",
    "# Executar busca\n",
    "random_search_v2.fit(X_train, y_train_log)\n",
    "\n",
    "print(\"\\n\" + \"=\"*60)\n",
    "print(\"BUSCA REFINADA CONCLUIDA!\")\n",
    "print(\"=\"*60)\n",
    "print(f\"\\nMelhores hiperparametros encontrados:\")\n",
    "for param, value in random_search_v2.best_params_.items():\n",
    "    print(f\"  {param}: {value}\")\n",
    "\n",
    "print(f\"\\nMelhor score (R2 CV): {random_search_v2.best_score_:.4f}\")"
   ]
  },
  {
   "cell_type": "markdown",
   "id": "ddaf984a",
   "metadata": {},
   "source": [
    "## Avaliacao no Test Set\n",
    "\n",
    "Treinar modelo com melhores hiperparametros e avaliar na escala original (£)."
   ]
  },
  {
   "cell_type": "code",
   "execution_count": 10,
   "id": "c334896c",
   "metadata": {},
   "outputs": [
    {
     "name": "stdout",
     "output_type": "stream",
     "text": [
      "MODELO V2 (REFINADO) - METRICAS NO TEST SET\n",
      "============================================================\n",
      "MAE:  £82,108\n",
      "RMSE: £566,975\n",
      "R2:   0.1094 (10.94%)\n",
      "\n",
      "COMPARACAO COMPLETA:\n",
      "------------------------------------------------------------\n",
      "Modelo base (100 est):           R2 = 0.1116 (11.16%)\n",
      "Modelo V1 (300 est, sem limit):  R2 = 0.0980 (9.80%)\n",
      "Modelo V2 (200 est, depth=15):   R2 = 0.1094 (10.94%)\n",
      "\n",
      "VENCEDOR: Modelo base (11.16%)\n"
     ]
    }
   ],
   "source": [
    "# Pegar melhor modelo V2\n",
    "best_rf_v2 = random_search_v2.best_estimator_\n",
    "\n",
    "# Predicoes\n",
    "y_pred_log_v2 = best_rf_v2.predict(X_test)\n",
    "y_pred_v2 = np.exp(y_pred_log_v2)\n",
    "\n",
    "# Metricas\n",
    "mae_v2 = mean_absolute_error(y_test, y_pred_v2)\n",
    "rmse_v2 = np.sqrt(mean_squared_error(y_test, y_pred_v2))\n",
    "r2_v2 = r2_score(y_test, y_pred_v2)\n",
    "\n",
    "print(\"MODELO V2 (REFINADO) - METRICAS NO TEST SET\")\n",
    "print(\"=\" * 60)\n",
    "print(f\"MAE:  £{mae_v2:,.0f}\")\n",
    "print(f\"RMSE: £{rmse_v2:,.0f}\")\n",
    "print(f\"R2:   {r2_v2:.4f} ({r2_v2*100:.2f}%)\")\n",
    "\n",
    "print(\"\\nCOMPARACAO COMPLETA:\")\n",
    "print(\"-\" * 60)\n",
    "print(f\"Modelo base (100 est):           R2 = 0.1116 (11.16%)\")\n",
    "print(f\"Modelo V1 (300 est, sem limit):  R2 = {r2:.4f} ({r2*100:.2f}%)\")\n",
    "print(f\"Modelo V2 (200 est, depth=15):   R2 = {r2_v2:.4f} ({r2_v2*100:.2f}%)\")\n",
    "\n",
    "# Melhor modelo\n",
    "best_r2 = max(0.1116, r2, r2_v2)\n",
    "if best_r2 == 0.1116:\n",
    "    print(\"\\nVENCEDOR: Modelo base (11.16%)\")\n",
    "elif best_r2 == r2:\n",
    "    print(f\"\\nVENCEDOR: Modelo V1 ({r2*100:.2f}%)\")\n",
    "else:\n",
    "    print(f\"\\nVENCEDOR: Modelo V2 ({r2_v2*100:.2f}%)\")"
   ]
  },
  {
   "cell_type": "markdown",
   "id": "bcb08201",
   "metadata": {},
   "source": [
    "## Conclusao\n",
    "\n",
    "Apos testar multiplas configuracoes de hiperparametros:\n",
    "- Modelo V1 (300 est, sem limite): R2 = 9.80%\n",
    "- Modelo V2 (200 est, depth=15): R2 = 10.94%\n",
    "- **Modelo base (100 est, default): R2 = 11.16%** ← VENCEDOR\n",
    "\n",
    "**DECISAO:** Usar modelo base para o pipeline final.\n",
    "\n",
    "O modelo base eh mais simples, mais rapido e teve melhor performance.\n",
    "Para imoveis ate £1M (98.6% dos casos), o R2 eh de 27%."
   ]
  }
 ],
 "metadata": {
  "kernelspec": {
   "display_name": "venv",
   "language": "python",
   "name": "python3"
  },
  "language_info": {
   "codemirror_mode": {
    "name": "ipython",
    "version": 3
   },
   "file_extension": ".py",
   "mimetype": "text/x-python",
   "name": "python",
   "nbconvert_exporter": "python",
   "pygments_lexer": "ipython3",
   "version": "3.13.3"
  }
 },
 "nbformat": 4,
 "nbformat_minor": 5
}
